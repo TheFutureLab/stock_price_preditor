{
 "cells": [
  {
   "cell_type": "code",
   "execution_count": null,
   "metadata": {},
   "outputs": [],
   "source": [
    "%matplotlib inline\n",
    "import pandas as pd\n",
    "import tensorflow as tf\n",
    "import numpy as np\n",
    "from statsmodels.tsa.stattools import coint\n",
    "from sklearn.preprocessing import MinMaxScaler"
   ]
  },
  {
   "cell_type": "code",
   "execution_count": null,
   "metadata": {},
   "outputs": [],
   "source": [
    "pep = pd.read_csv('data/market_data/KO.csv')\n",
    "ko = pd.read_csv('data/market_data/PEP.csv')"
   ]
  },
  {
   "cell_type": "code",
   "execution_count": null,
   "metadata": {},
   "outputs": [],
   "source": [
    "df = pd.merge(left=ko,right=pep,left_on='dt',right_on='dt')"
   ]
  },
  {
   "cell_type": "code",
   "execution_count": null,
   "metadata": {},
   "outputs": [],
   "source": [
    "df['ratio'] = df.close_x/df.close_y"
   ]
  },
  {
   "cell_type": "code",
   "execution_count": null,
   "metadata": {},
   "outputs": [],
   "source": [
    "df['dt'] = pd.to_datetime(df.dt)"
   ]
  },
  {
   "cell_type": "code",
   "execution_count": null,
   "metadata": {},
   "outputs": [],
   "source": [
    "df['month'] = df.dt.dt.month\n",
    "df['year'] = df.dt.dt.year\n",
    "df['dow'] = df.dt.dt.dayofweek\n",
    "df['hour'] = df.dt.dt.hour"
   ]
  },
  {
   "cell_type": "code",
   "execution_count": null,
   "metadata": {},
   "outputs": [],
   "source": [
    "df = pd.get_dummies(df,columns=['month','year','dow','hour'])"
   ]
  },
  {
   "cell_type": "code",
   "execution_count": null,
   "metadata": {},
   "outputs": [],
   "source": [
    "df['ratio_grouth'] = 1\n",
    "df['ratio_grouth'].iloc[1:] = np.array(df['ratio'].iloc[1:])/np.array(df['ratio'].iloc[:-1])"
   ]
  },
  {
   "cell_type": "code",
   "execution_count": null,
   "metadata": {},
   "outputs": [],
   "source": [
    "df=df.iloc[1:]"
   ]
  },
  {
   "cell_type": "code",
   "execution_count": null,
   "metadata": {},
   "outputs": [],
   "source": [
    "df.plot(x='dt',y='ratio_grouth')"
   ]
  },
  {
   "cell_type": "code",
   "execution_count": null,
   "metadata": {},
   "outputs": [],
   "source": [
    "score,value, _ = coint(df[df.dt.dt.year>2013].open_y,df[df.dt.dt.year>2013].open_x)"
   ]
  },
  {
   "cell_type": "code",
   "execution_count": null,
   "metadata": {},
   "outputs": [],
   "source": [
    "def build_inputs(batch_size,num_steps,input_size):\n",
    "    inputs = tf.placeholder(shape=(batch_size,num_steps,input_size),dtype=tf.float32,name='inputs')\n",
    "    targets = tf.placeholder(shape=(batch_size,1),dtype=tf.float32,name='targets')\n",
    "    \n",
    "    return inputs,targets\n",
    "\n",
    "def build_lstm(lstm_size,num_layers,batch_size):\n",
    "    \n",
    "    stacked_rnn = []\n",
    "    for layer in range(num_layers):\n",
    "        lstm = tf.contrib.rnn.BasicLSTMCell(lstm_size)\n",
    "        drop = tf.contrib.rnn.DropoutWrapper(lstm,output_keep_prob=0.7)\n",
    "        stacked_rnn.append(drop)\n",
    "    \n",
    "    cell = tf.contrib.rnn.MultiRNNCell(cells=stacked_rnn, state_is_tuple=True)\n",
    "    \n",
    "    initial_state = cell.zero_state(batch_size,dtype=tf.float32)\n",
    "    \n",
    "    return cell, initial_state\n",
    "\n",
    "def build_output(lstm_output,in_size,out_size=1):\n",
    "    #seq_output = tf.concat(lstm_output, axis=1)\n",
    "    x1 = tf.reshape(tensor=lstm_output,shape=(-1,in_size))\n",
    "    x1 = tf.contrib.layers.fully_connected(x1,int(in_size*1.5))\n",
    "    x1 = tf.layers.batch_normalization(x1)\n",
    "    x1 = tf.maximum(x1,x1*0.2)\n",
    "    x1 = tf.nn.dropout(x1,0.8)\n",
    "    \n",
    "    x1 = tf.contrib.layers.fully_connected(x1,int(in_size*1.3))\n",
    "    x1 = tf.layers.batch_normalization(x1)\n",
    "    x1 = tf.maximum(x1,x1*0.2)\n",
    "    x1 = tf.nn.dropout(x1,0.8)\n",
    "    \n",
    "    x = tf.contrib.layers.fully_connected(x1,in_size)\n",
    "    x = tf.layers.batch_normalization(x)\n",
    "    x = tf.maximum(x,x*0.2)\n",
    "    x = tf.nn.dropout(x,0.6)\n",
    "                    \n",
    "    with tf.variable_scope('logits'):\n",
    "        logits_w = tf.Variable(tf.truncated_normal((in_size,out_size),stddev=0.1))\n",
    "        logits_b = tf.Variable(tf.zeros(out_size))\n",
    "        \n",
    "    logits = tf.add(tf.matmul(x,logits_w),logits_b)\n",
    "    \n",
    "    return logits\n",
    "\n",
    "def build_loss(logits,targets):\n",
    "    loss = tf.reduce_mean(tf.squared_difference(logits,targets))\n",
    "    \n",
    "    return loss\n",
    "\n",
    "def build_optimizer(loss, grad_clip):\n",
    "\n",
    "    # Optimizer for training, using gradient clipping to control exploding gradients\n",
    "    tvars = tf.trainable_variables()\n",
    "    grads, _ = tf.clip_by_global_norm(tf.gradients(loss, tvars), grad_clip)\n",
    "    train_op = tf.train.AdamOptimizer(0.000001)\n",
    "    optimizer = train_op.apply_gradients(zip(grads, tvars))\n",
    "    \n",
    "    return optimizer\n",
    "\n",
    "class Network:\n",
    "    def __init__(self,batch_size,num_steps,lstm_size,num_layers,input_size,grad_clip=5):\n",
    "        tf.reset_default_graph()\n",
    "        \n",
    "        self.inputs,self.targets = build_inputs(batch_size,num_steps,input_size)\n",
    "        \n",
    "        cell, self.initial_state = build_lstm(lstm_size,num_layers,batch_size)\n",
    "        \n",
    "        outputs, state = tf.nn.dynamic_rnn(cell=cell,initial_state=self.initial_state,inputs=self.inputs)\n",
    "        \n",
    "        self.final_state = state\n",
    "        \n",
    "        self.logits = build_output(outputs,num_steps*lstm_size,1)\n",
    "        \n",
    "        self.loss = build_loss(self.logits,self.targets)\n",
    "        \n",
    "        self.opt = build_optimizer(self.loss, grad_clip)\n",
    "        "
   ]
  },
  {
   "cell_type": "code",
   "execution_count": null,
   "metadata": {},
   "outputs": [],
   "source": [
    "cols = ['d_ratio','d_dow_0', 'd_dow_1', 'd_dow_2', 'd_dow_3', 'd_dow_4','high_x','low_x','volume_x','high_y','low_y','volume_y', 'month_1', 'month_2',\n",
    "       'month_3', 'month_4', 'month_5', 'month_6', 'month_7', 'month_8',\n",
    "       'month_9', 'month_10', 'month_11', 'month_12', 'year_2010', 'year_2011',\n",
    "       'year_2012', 'year_2013', 'year_2014', 'year_2015', 'year_2016',\n",
    "       'year_2017', 'dow_0', 'dow_1', 'dow_2', 'dow_3', 'dow_4', 'hour_9',\n",
    "       'hour_10', 'hour_11', 'hour_12', 'hour_13', 'hour_14', 'hour_15',\n",
    "       'hour_16','ratio_grouth']"
   ]
  },
  {
   "cell_type": "code",
   "execution_count": null,
   "metadata": {},
   "outputs": [],
   "source": [
    "scaler = MinMaxScaler()\n",
    "df[['high_x','low_x','volume_x','high_y','low_y','volume_y']] = scaler.fit_transform(df[['high_x','low_x','volume_x','high_y','low_y','volume_y']])"
   ]
  },
  {
   "cell_type": "code",
   "execution_count": null,
   "metadata": {},
   "outputs": [],
   "source": [
    "by_day=df.groupby(df.dt.dt.date).mean()\n",
    "by_day=by_day.rename(columns={'ratio':'d_ratio'})\n",
    "\n",
    "by_day['d_dow'] = pd.to_datetime(by_day.index).dayofweek\n",
    "by_day = pd.get_dummies(by_day,columns=['d_dow'])"
   ]
  },
  {
   "cell_type": "code",
   "execution_count": null,
   "metadata": {},
   "outputs": [],
   "source": [
    "batch_size = 64\n",
    "input_length = 30\n",
    "input_size = len(cols)\n",
    "\n",
    "n_batches = len(df)//(batch_size*input_length)\n",
    "size = batch_size*n_batches*input_length\n",
    "\n",
    "df = df[-1*size-2:]\n",
    "\n",
    "model = Network(batch_size=batch_size, num_steps=input_length,\n",
    "                lstm_size=64, num_layers=3, \n",
    "                input_size=input_size)"
   ]
  },
  {
   "cell_type": "code",
   "execution_count": null,
   "metadata": {},
   "outputs": [],
   "source": [
    "def get_batch():\n",
    "    for i in range(841,size-input_length*batch_size-1):\n",
    "        batch = df.iloc[i:i+input_length*batch_size+1,1:]\n",
    "        \n",
    "        temp = pd.DataFrame()\n",
    "        \n",
    "        for u  in range(0,len(batch)-input_length,input_length):\n",
    "            to_ = batch.date.iloc[u+input_length-1]\n",
    "            \n",
    "            temp = pd.concat([temp,by_day[by_day.index<=to_].iloc[-30:][['d_ratio','d_dow_0', 'd_dow_1', 'd_dow_2', 'd_dow_3', 'd_dow_4']]],axis=0,ignore_index=True)\n",
    "        \n",
    "        temp=temp.append(pd.Series([0,0,0,0,0,0], index=['d_ratio','d_dow_0', 'd_dow_1', 'd_dow_2', 'd_dow_3', 'd_dow_4']),ignore_index=True)\n",
    "        batch.reset_index(inplace=True)\n",
    "        batch = pd.concat([batch,temp],axis=1)\n",
    "    \n",
    "        x = np.reshape(np.array(batch[cols].iloc[:-1]), (batch_size,input_length,input_size) )\n",
    "        \n",
    "        y = np.reshape(np.array(batch['ratio_grouth'].iloc[1:]), (batch_size,input_length,1) )[:,-1,:]\n",
    "\n",
    "        yield x,y"
   ]
  },
  {
   "cell_type": "code",
   "execution_count": null,
   "metadata": {},
   "outputs": [],
   "source": [
    "epochs = 4\n",
    "saver = tf.train.Saver(max_to_keep=100)\n",
    "\n",
    "with tf.Session() as sess:\n",
    "    sess.run(tf.global_variables_initializer())\n",
    "   \n",
    "    for e in range(epochs):\n",
    "        total_loss=0\n",
    "        new_state = sess.run(model.initial_state)\n",
    "        n_batches=0\n",
    "        for x, y in get_batch():\n",
    "            feed = {model.inputs: x,\n",
    "                    model.targets: y,\n",
    "                    model.initial_state:new_state\n",
    "                    }\n",
    "           \n",
    "            batch_loss, new_state, y_hat, _ = sess.run([model.loss,\n",
    "                                                 model.final_state,\n",
    "                                                 model.logits,\n",
    "                                                 model.opt],\n",
    "                                                 feed_dict=feed)\n",
    "           \n",
    "            if n_batches % 200 == 0:\n",
    "                print('e',e,'n',n_batches,'pred',y_hat[3],'y',y[3])\n",
    "           \n",
    "            total_loss+= batch_loss**0.5\n",
    "            n_batches+=1           \n",
    "               \n",
    "        print('mean',total_loss/n_batches)\n",
    "\n"
   ]
  },
  {
   "cell_type": "code",
   "execution_count": null,
   "metadata": {},
   "outputs": [],
   "source": []
  },
  {
   "cell_type": "code",
   "execution_count": null,
   "metadata": {},
   "outputs": [],
   "source": []
  }
 ],
 "metadata": {
  "kernelspec": {
   "display_name": "Python 3",
   "language": "python",
   "name": "python3"
  },
  "language_info": {
   "codemirror_mode": {
    "name": "ipython",
    "version": 3
   },
   "file_extension": ".py",
   "mimetype": "text/x-python",
   "name": "python",
   "nbconvert_exporter": "python",
   "pygments_lexer": "ipython3",
   "version": "3.6.5"
  }
 },
 "nbformat": 4,
 "nbformat_minor": 2
}
