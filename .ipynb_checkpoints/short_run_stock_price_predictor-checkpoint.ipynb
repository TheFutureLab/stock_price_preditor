{
 "cells": [
  {
   "cell_type": "markdown",
   "metadata": {},
   "source": [
    "# Future work to do\n",
    "\n",
    "Implementing decoder, for making Long Run predictions\n",
    "\n",
    "Use other datasets, e.g. dividends\n",
    "\n",
    "Profiling companies and using a lot of pairs\n",
    "\n",
    "Add convolutional layers\n",
    "\n",
    "Apply new models. e.g. Arima,Boosting\n",
    "\n",
    "Trying new interesting techniques, like GANs\n",
    "\n",
    "Use Unstructured Datasets"
   ]
  },
  {
   "cell_type": "code",
   "execution_count": 1,
   "metadata": {},
   "outputs": [],
   "source": [
    "%matplotlib inline\n",
    "import pandas as pd\n",
    "import tensorflow as tf\n",
    "import numpy as np\n",
    "from statsmodels.tsa.stattools import coint\n",
    "from sklearn.preprocessing import MinMaxScaler\n",
    "import seaborn as sns"
   ]
  },
  {
   "cell_type": "code",
   "execution_count": 2,
   "metadata": {},
   "outputs": [],
   "source": [
    "pep = pd.read_csv('data/market_data/KO.csv')\n",
    "ko = pd.read_csv('data/market_data/PEP.csv')"
   ]
  },
  {
   "cell_type": "code",
   "execution_count": 3,
   "metadata": {},
   "outputs": [],
   "source": [
    "df = pd.merge(left=ko,right=pep,left_on='dt',right_on='dt')"
   ]
  },
  {
   "cell_type": "code",
   "execution_count": 4,
   "metadata": {},
   "outputs": [],
   "source": [
    "df['x_low_high_diff'] = df.high_y - df.low_y\n",
    "df['y_low_high_diff'] = df.high_y - df.low_y"
   ]
  },
  {
   "cell_type": "code",
   "execution_count": 5,
   "metadata": {},
   "outputs": [],
   "source": [
    "df['close_ratio'] = df.close_x/df.close_y\n",
    "df['open_ratio'] = df.open_x/df.open_y\n",
    "df['volume_ratio'] = df.volume_x/df.volume_y\n",
    "df['diff_ratio'] = df.x_low_high_diff/df.y_low_high_diff"
   ]
  },
  {
   "cell_type": "code",
   "execution_count": 6,
   "metadata": {},
   "outputs": [],
   "source": [
    "df['dt'] = pd.to_datetime(df.dt)\n",
    "\n",
    "df['month'] = df.dt.dt.month\n",
    "df['year'] = df.dt.dt.year\n",
    "df['dow'] = df.dt.dt.dayofweek\n",
    "df['hour'] = df.dt.dt.hour"
   ]
  },
  {
   "cell_type": "code",
   "execution_count": 7,
   "metadata": {},
   "outputs": [],
   "source": [
    "df['open_ratio_grouth'] = 1\n",
    "df['close_ratio_grouth'] = 1\n",
    "df['open_close_ratio_grouth'] = 1\n",
    "df['volume_ratio_grouth'] = 1\n",
    "df['diff_ratio_grouth'] = 1 \n",
    "\n",
    "df.loc[1:,'open_ratio_grouth'] = np.array(df['open_ratio'].iloc[1:])/np.array(df['open_ratio'].iloc[:-1])\n",
    "df.loc[1:,'close_ratio_grouth'] = np.array(df['close_ratio'].iloc[1:])/np.array(df['close_ratio'].iloc[:-1])\n",
    "df.loc[1:,'volume_ratio_grouth'] = np.array(df['volume_ratio'].iloc[1:])/np.array(df['volume_ratio'].iloc[:-1])\n",
    "df.loc[1:,'diff_ratio_grouth'] = np.array(df['diff_ratio'].iloc[1:])/np.array(df['diff_ratio'].iloc[:-1])\n",
    "\n",
    "\n",
    "df.loc[:,'open_close_ratio_grouth'] = df['close_ratio']/df['open_ratio']\n",
    "df.loc[:,'open_close_ratio_grouth'] = df['close_ratio']/df['open_ratio']\n",
    "\n",
    "\n",
    "df.drop(df.index[0],inplace=True,axis=0)"
   ]
  },
  {
   "cell_type": "code",
   "execution_count": 8,
   "metadata": {},
   "outputs": [
    {
     "data": {
      "text/html": [
       "<div>\n",
       "<style scoped>\n",
       "    .dataframe tbody tr th:only-of-type {\n",
       "        vertical-align: middle;\n",
       "    }\n",
       "\n",
       "    .dataframe tbody tr th {\n",
       "        vertical-align: top;\n",
       "    }\n",
       "\n",
       "    .dataframe thead th {\n",
       "        text-align: right;\n",
       "    }\n",
       "</style>\n",
       "<table border=\"1\" class=\"dataframe\">\n",
       "  <thead>\n",
       "    <tr style=\"text-align: right;\">\n",
       "      <th></th>\n",
       "      <th>dt</th>\n",
       "      <th>open_x</th>\n",
       "      <th>high_x</th>\n",
       "      <th>low_x</th>\n",
       "      <th>close_x</th>\n",
       "      <th>volume_x</th>\n",
       "      <th>open_y</th>\n",
       "      <th>high_y</th>\n",
       "      <th>low_y</th>\n",
       "      <th>close_y</th>\n",
       "      <th>...</th>\n",
       "      <th>diff_ratio</th>\n",
       "      <th>month</th>\n",
       "      <th>year</th>\n",
       "      <th>dow</th>\n",
       "      <th>hour</th>\n",
       "      <th>open_ratio_grouth</th>\n",
       "      <th>close_ratio_grouth</th>\n",
       "      <th>open_close_ratio_grouth</th>\n",
       "      <th>volume_ratio_grouth</th>\n",
       "      <th>diff_ratio_grouth</th>\n",
       "    </tr>\n",
       "  </thead>\n",
       "  <tbody>\n",
       "    <tr>\n",
       "      <th>1</th>\n",
       "      <td>2010-01-04 10:00:00</td>\n",
       "      <td>60.710</td>\n",
       "      <td>60.980</td>\n",
       "      <td>60.70</td>\n",
       "      <td>60.951</td>\n",
       "      <td>832628</td>\n",
       "      <td>57.000</td>\n",
       "      <td>57.1100</td>\n",
       "      <td>56.90</td>\n",
       "      <td>57.01</td>\n",
       "      <td>...</td>\n",
       "      <td>1.0</td>\n",
       "      <td>1</td>\n",
       "      <td>2010</td>\n",
       "      <td>0</td>\n",
       "      <td>10</td>\n",
       "      <td>0.994941</td>\n",
       "      <td>1.003959</td>\n",
       "      <td>1.003794</td>\n",
       "      <td>1.333854</td>\n",
       "      <td>1.0</td>\n",
       "    </tr>\n",
       "    <tr>\n",
       "      <th>2</th>\n",
       "      <td>2010-01-04 10:15:00</td>\n",
       "      <td>60.950</td>\n",
       "      <td>61.099</td>\n",
       "      <td>60.87</td>\n",
       "      <td>61.055</td>\n",
       "      <td>1123591</td>\n",
       "      <td>57.005</td>\n",
       "      <td>57.1600</td>\n",
       "      <td>56.95</td>\n",
       "      <td>57.16</td>\n",
       "      <td>...</td>\n",
       "      <td>1.0</td>\n",
       "      <td>1</td>\n",
       "      <td>2010</td>\n",
       "      <td>0</td>\n",
       "      <td>10</td>\n",
       "      <td>1.003865</td>\n",
       "      <td>0.999078</td>\n",
       "      <td>0.999006</td>\n",
       "      <td>0.986506</td>\n",
       "      <td>1.0</td>\n",
       "    </tr>\n",
       "    <tr>\n",
       "      <th>3</th>\n",
       "      <td>2010-01-04 10:30:00</td>\n",
       "      <td>61.055</td>\n",
       "      <td>61.170</td>\n",
       "      <td>61.02</td>\n",
       "      <td>61.140</td>\n",
       "      <td>1387369</td>\n",
       "      <td>57.160</td>\n",
       "      <td>57.2200</td>\n",
       "      <td>57.11</td>\n",
       "      <td>57.21</td>\n",
       "      <td>...</td>\n",
       "      <td>1.0</td>\n",
       "      <td>1</td>\n",
       "      <td>2010</td>\n",
       "      <td>0</td>\n",
       "      <td>10</td>\n",
       "      <td>0.999006</td>\n",
       "      <td>1.000517</td>\n",
       "      <td>1.000517</td>\n",
       "      <td>1.004114</td>\n",
       "      <td>1.0</td>\n",
       "    </tr>\n",
       "    <tr>\n",
       "      <th>4</th>\n",
       "      <td>2010-01-04 10:45:00</td>\n",
       "      <td>61.140</td>\n",
       "      <td>61.180</td>\n",
       "      <td>61.04</td>\n",
       "      <td>61.062</td>\n",
       "      <td>1644542</td>\n",
       "      <td>57.200</td>\n",
       "      <td>57.2200</td>\n",
       "      <td>57.11</td>\n",
       "      <td>57.14</td>\n",
       "      <td>...</td>\n",
       "      <td>1.0</td>\n",
       "      <td>1</td>\n",
       "      <td>2010</td>\n",
       "      <td>0</td>\n",
       "      <td>10</td>\n",
       "      <td>1.000692</td>\n",
       "      <td>0.999948</td>\n",
       "      <td>0.999773</td>\n",
       "      <td>1.036124</td>\n",
       "      <td>1.0</td>\n",
       "    </tr>\n",
       "    <tr>\n",
       "      <th>5</th>\n",
       "      <td>2010-01-04 11:00:00</td>\n",
       "      <td>61.070</td>\n",
       "      <td>61.140</td>\n",
       "      <td>61.00</td>\n",
       "      <td>61.010</td>\n",
       "      <td>2001837</td>\n",
       "      <td>57.140</td>\n",
       "      <td>57.1685</td>\n",
       "      <td>57.05</td>\n",
       "      <td>57.09</td>\n",
       "      <td>...</td>\n",
       "      <td>1.0</td>\n",
       "      <td>1</td>\n",
       "      <td>2010</td>\n",
       "      <td>0</td>\n",
       "      <td>11</td>\n",
       "      <td>0.999904</td>\n",
       "      <td>1.000023</td>\n",
       "      <td>0.999892</td>\n",
       "      <td>1.084119</td>\n",
       "      <td>1.0</td>\n",
       "    </tr>\n",
       "  </tbody>\n",
       "</table>\n",
       "<p>5 rows × 26 columns</p>\n",
       "</div>"
      ],
      "text/plain": [
       "                   dt  open_x  high_x  low_x  close_x  volume_x  open_y  \\\n",
       "1 2010-01-04 10:00:00  60.710  60.980  60.70   60.951    832628  57.000   \n",
       "2 2010-01-04 10:15:00  60.950  61.099  60.87   61.055   1123591  57.005   \n",
       "3 2010-01-04 10:30:00  61.055  61.170  61.02   61.140   1387369  57.160   \n",
       "4 2010-01-04 10:45:00  61.140  61.180  61.04   61.062   1644542  57.200   \n",
       "5 2010-01-04 11:00:00  61.070  61.140  61.00   61.010   2001837  57.140   \n",
       "\n",
       "    high_y  low_y  close_y        ...          diff_ratio  month  year  dow  \\\n",
       "1  57.1100  56.90    57.01        ...                 1.0      1  2010    0   \n",
       "2  57.1600  56.95    57.16        ...                 1.0      1  2010    0   \n",
       "3  57.2200  57.11    57.21        ...                 1.0      1  2010    0   \n",
       "4  57.2200  57.11    57.14        ...                 1.0      1  2010    0   \n",
       "5  57.1685  57.05    57.09        ...                 1.0      1  2010    0   \n",
       "\n",
       "   hour  open_ratio_grouth  close_ratio_grouth  open_close_ratio_grouth  \\\n",
       "1    10           0.994941            1.003959                 1.003794   \n",
       "2    10           1.003865            0.999078                 0.999006   \n",
       "3    10           0.999006            1.000517                 1.000517   \n",
       "4    10           1.000692            0.999948                 0.999773   \n",
       "5    11           0.999904            1.000023                 0.999892   \n",
       "\n",
       "   volume_ratio_grouth  diff_ratio_grouth  \n",
       "1             1.333854                1.0  \n",
       "2             0.986506                1.0  \n",
       "3             1.004114                1.0  \n",
       "4             1.036124                1.0  \n",
       "5             1.084119                1.0  \n",
       "\n",
       "[5 rows x 26 columns]"
      ]
     },
     "execution_count": 8,
     "metadata": {},
     "output_type": "execute_result"
    }
   ],
   "source": [
    "df.head()"
   ]
  },
  {
   "cell_type": "code",
   "execution_count": 9,
   "metadata": {},
   "outputs": [
    {
     "data": {
      "text/plain": [
       "<matplotlib.axes._subplots.AxesSubplot at 0x7fd4b11aa748>"
      ]
     },
     "execution_count": 9,
     "metadata": {},
     "output_type": "execute_result"
    },
    {
     "data": {
      "image/png": "[encoded data removed]",
      "text/plain": [
       "<Figure size 432x288 with 1 Axes>"
      ]
     },
     "metadata": {},
     "output_type": "display_data"
    }
   ],
   "source": [
    "df.plot(x='dt',y='open_ratio')"
   ]
  },
  {
   "cell_type": "code",
   "execution_count": 10,
   "metadata": {},
   "outputs": [],
   "source": [
    "df.loc[:,['open_ratio_grouth','close_ratio_grouth','open_close_ratio_grouth']]-=1\n",
    "df.loc[:,'close_ratio_grouth']*=10\n",
    "ea_df = df[df.open_ratio>2]"
   ]
  },
  {
   "cell_type": "code",
   "execution_count": 11,
   "metadata": {},
   "outputs": [
    {
     "data": {
      "text/plain": [
       "<matplotlib.axes._subplots.AxesSubplot at 0x7fd4b0eb6978>"
      ]
     },
     "execution_count": 11,
     "metadata": {},
     "output_type": "execute_result"
    },
    {
     "data": {
      "image/png": "[encoded data removed]",
      "text/plain": [
       "<Figure size 432x288 with 1 Axes>"
      ]
     },
     "metadata": {},
     "output_type": "display_data"
    }
   ],
   "source": [
    "df.plot(x='dt',y='open_close_ratio_grouth')"
   ]
  },
  {
   "cell_type": "markdown",
   "metadata": {},
   "source": [
    "sns.jointplot(x=\"month\", y=\"open_ratio\", data=df, kind=\"kde\", color=\"m\")"
   ]
  },
  {
   "cell_type": "code",
   "execution_count": 12,
   "metadata": {},
   "outputs": [
    {
     "data": {
      "text/plain": [
       "<matplotlib.axes._subplots.AxesSubplot at 0x7fd4b0c38a58>"
      ]
     },
     "execution_count": 12,
     "metadata": {},
     "output_type": "execute_result"
    },
    {
     "data": {
      "image/png": "[encoded data removed]",
      "text/plain": [
       "<Figure size 432x288 with 1 Axes>"
      ]
     },
     "metadata": {},
     "output_type": "display_data"
    }
   ],
   "source": [
    "sns.barplot(x='month',y='open_ratio_grouth',data=ea_df)"
   ]
  },
  {
   "cell_type": "code",
   "execution_count": 13,
   "metadata": {},
   "outputs": [
    {
     "data": {
      "text/plain": [
       "<matplotlib.axes._subplots.AxesSubplot at 0x7fd4b0b67cc0>"
      ]
     },
     "execution_count": 13,
     "metadata": {},
     "output_type": "execute_result"
    },
    {
     "data": {
      "image/png": "[encoded data removed]",
      "text/plain": [
       "<Figure size 432x288 with 1 Axes>"
      ]
     },
     "metadata": {},
     "output_type": "display_data"
    }
   ],
   "source": [
    "sns.barplot(x='month',y='open_ratio_grouth',data=ea_df)"
   ]
  },
  {
   "cell_type": "code",
   "execution_count": 14,
   "metadata": {},
   "outputs": [
    {
     "data": {
      "text/plain": [
       "<matplotlib.axes._subplots.AxesSubplot at 0x7fd4b0c8c7f0>"
      ]
     },
     "execution_count": 14,
     "metadata": {},
     "output_type": "execute_result"
    },
    {
     "data": {
      "image/png": "[encoded data removed]",
      "text/plain": [
       "<Figure size 432x288 with 1 Axes>"
      ]
     },
     "metadata": {},
     "output_type": "display_data"
    }
   ],
   "source": [
    "sns.barplot(x='hour',y='open_ratio_grouth',data=ea_df)"
   ]
  },
  {
   "cell_type": "code",
   "execution_count": 15,
   "metadata": {},
   "outputs": [
    {
     "data": {
      "text/plain": [
       "<matplotlib.axes._subplots.AxesSubplot at 0x7fd4b0a0f240>"
      ]
     },
     "execution_count": 15,
     "metadata": {},
     "output_type": "execute_result"
    },
    {
     "data": {
      "image/png": "[encoded data removed]",
      "text/plain": [
       "<Figure size 432x288 with 1 Axes>"
      ]
     },
     "metadata": {},
     "output_type": "display_data"
    }
   ],
   "source": [
    "sns.regplot(x='open_ratio_grouth',y='close_ratio_grouth',data=ea_df)"
   ]
  },
  {
   "cell_type": "code",
   "execution_count": 16,
   "metadata": {},
   "outputs": [
    {
     "data": {
      "text/plain": [
       "<matplotlib.axes._subplots.AxesSubplot at 0x7fd4b0a44668>"
      ]
     },
     "execution_count": 16,
     "metadata": {},
     "output_type": "execute_result"
    },
    {
     "data": {
      "image/png": "[encoded data removed]",
      "text/plain": [
       "<Figure size 432x288 with 1 Axes>"
      ]
     },
     "metadata": {},
     "output_type": "display_data"
    }
   ],
   "source": [
    "sns.regplot(ea_df['open_ratio_grouth'].iloc[:-1],ea_df['open_ratio_grouth'].iloc[1:])"
   ]
  },
  {
   "cell_type": "code",
   "execution_count": 17,
   "metadata": {},
   "outputs": [
    {
     "data": {
      "text/plain": [
       "<matplotlib.axes._subplots.AxesSubplot at 0x7fd4b090f668>"
      ]
     },
     "execution_count": 17,
     "metadata": {},
     "output_type": "execute_result"
    },
    {
     "data": {
      "image/png": "[encoded data removed]",
      "text/plain": [
       "<Figure size 432x288 with 1 Axes>"
      ]
     },
     "metadata": {},
     "output_type": "display_data"
    }
   ],
   "source": [
    "sns.regplot(ea_df['close_ratio_grouth'].iloc[:-1],ea_df['close_ratio_grouth'].iloc[1:])"
   ]
  },
  {
   "cell_type": "code",
   "execution_count": 18,
   "metadata": {},
   "outputs": [
    {
     "data": {
      "text/plain": [
       "<matplotlib.axes._subplots.AxesSubplot at 0x7fd4b08e70f0>"
      ]
     },
     "execution_count": 18,
     "metadata": {},
     "output_type": "execute_result"
    },
    {
     "data": {
      "image/png": "[encoded data removed]",
      "text/plain": [
       "<Figure size 432x288 with 1 Axes>"
      ]
     },
     "metadata": {},
     "output_type": "display_data"
    }
   ],
   "source": [
    "sns.regplot(ea_df['volume_ratio_grouth'].iloc[:-1],ea_df['close_ratio_grouth'].iloc[1:])"
   ]
  },
  {
   "cell_type": "code",
   "execution_count": 19,
   "metadata": {},
   "outputs": [],
   "source": [
    "df = pd.get_dummies(df,columns=['month','year','dow','hour'])"
   ]
  },
  {
   "cell_type": "code",
   "execution_count": 20,
   "metadata": {},
   "outputs": [],
   "source": [
    "df['org_9'] = df['open_ratio_grouth']*df['hour_9'] \n",
    "df['org_0_9'] = df['open_ratio_grouth']*df['hour_9']*df['dow_0'] \n",
    "df['crg_4_16'] = df['close_ratio_grouth']*df['hour_16']*df['dow_4']\n",
    "df['crg_16'] = df['close_ratio_grouth']*df['hour_16']"
   ]
  },
  {
   "cell_type": "code",
   "execution_count": 21,
   "metadata": {},
   "outputs": [],
   "source": [
    "scaler = MinMaxScaler(feature_range=(-0.5,0.5))\n",
    "df[['org_9','org_0_9','high_x','low_x','high_y','low_y','close_ratio','open_close_ratio_grouth','volume_ratio_grouth','open_ratio','open_ratio_grouth']] = scaler.fit_transform(df[['org_9','org_0_9','high_x','low_x','high_y','low_y','close_ratio','open_close_ratio_grouth','volume_ratio_grouth','open_ratio','open_ratio_grouth']])"
   ]
  },
  {
   "cell_type": "code",
   "execution_count": 22,
   "metadata": {},
   "outputs": [],
   "source": [
    "cols = ['org_9','org_0_9','crg_4_16','crg_16','high_x','low_x','high_y','low_y', 'month_1', 'month_2',\n",
    "       'month_3', 'month_4', 'month_5', 'month_6', 'month_7', 'month_8',\n",
    "       'month_9', 'month_10', 'month_11', 'month_12', 'year_2010', 'year_2011',\n",
    "       'year_2012', 'year_2013', 'year_2014', 'year_2015', 'year_2016',\n",
    "       'year_2017', 'dow_0', 'dow_1', 'dow_2', 'dow_3', 'dow_4', 'hour_9',\n",
    "       'hour_10', 'hour_11', 'hour_12', 'hour_13', 'hour_14', 'hour_15',\n",
    "       'hour_16','close_ratio','open_close_ratio_grouth','volume_ratio_grouth','open_ratio','open_ratio_grouth','close_ratio_grouth']"
   ]
  },
  {
   "cell_type": "code",
   "execution_count": 23,
   "metadata": {},
   "outputs": [],
   "source": [
    "batch_size = 16\n",
    "input_size = len(cols)\n",
    "last_input_size = 2\n",
    "num_steps = 100\n",
    "learning_rate = 0.00001\n",
    "each_batch = (num_steps+1)*batch_size\n",
    "n_batches = len(df)//each_batch \n",
    "odd = len(df) - each_batch*n_batches\n",
    "\n",
    "data = df.iloc[odd:][cols].values"
   ]
  },
  {
   "cell_type": "code",
   "execution_count": 24,
   "metadata": {},
   "outputs": [],
   "source": [
    "def build_inputs(batch_size,num_steps,input_size,last_input_size):\n",
    "    inputs = tf.placeholder(shape=(batch_size,num_steps,input_size),dtype=tf.float32,name='inputs')\n",
    "    opens = tf.placeholder(shape=(batch_size,last_input_size),dtype=tf.float32,name='opens')\n",
    "    targets = tf.placeholder(shape=(batch_size,1),dtype=tf.float32,name='targets')\n",
    "    \n",
    "    return inputs,opens,targets"
   ]
  },
  {
   "cell_type": "code",
   "execution_count": 25,
   "metadata": {},
   "outputs": [],
   "source": [
    "def build_lstm(lstm_size,num_layers,batch_size):\n",
    "    \n",
    "    stacked_rnn = []\n",
    "    for layer in range(num_layers):\n",
    "        lstm = tf.contrib.rnn.BasicLSTMCell(lstm_size)\n",
    "        drop = tf.contrib.rnn.DropoutWrapper(lstm,output_keep_prob=0.7)\n",
    "        stacked_rnn.append(drop)\n",
    "    \n",
    "    cell = tf.contrib.rnn.MultiRNNCell(cells=stacked_rnn, state_is_tuple=True)\n",
    "    \n",
    "    initial_state = cell.zero_state(batch_size,dtype=tf.float32)\n",
    "    \n",
    "    return cell, initial_state"
   ]
  },
  {
   "cell_type": "code",
   "execution_count": 26,
   "metadata": {},
   "outputs": [],
   "source": [
    "def build_output(lstm_output,opens,in_size,out_size=1):\n",
    "    output = lstm_output[:,-1,:]\n",
    "    \n",
    "    x1 = tf.contrib.layers.fully_connected(output,int(1.4*in_size),activation_fn=None)\n",
    "    x1 = tf.layers.batch_normalization(x1)\n",
    "    x1 = tf.maximum(x1,x1*0.2)\n",
    "    x1 = tf.nn.dropout(x1,0.7)\n",
    "    \n",
    "    x2 = tf.contrib.layers.fully_connected(tf.concat([x1,opens],axis=1),in_size,activation_fn=None)\n",
    "    x2 = tf.layers.batch_normalization(x2)\n",
    "    x2 = tf.maximum(x2,x2*0.2)\n",
    "    x2 = tf.nn.dropout(x2,0.7)\n",
    "    \n",
    "    x3 = tf.contrib.layers.fully_connected(x2,int(0.5*in_size),activation_fn=None)\n",
    "    x3 = tf.layers.batch_normalization(x3)\n",
    "    x3 = tf.maximum(x3,x3*0.2)\n",
    "    x3 = tf.nn.dropout(x3,0.7)\n",
    "    \n",
    "    logits = tf.contrib.layers.fully_connected(x3,out_size,activation_fn=None)\n",
    "    \n",
    "    return logits"
   ]
  },
  {
   "cell_type": "code",
   "execution_count": 27,
   "metadata": {},
   "outputs": [],
   "source": [
    "def build_loss(logits, targets, batch_size, out_size=1):\n",
    "    loss1 = tf.reduce_mean(tf.squared_difference(logits,targets))\n",
    "    z = tf.reshape(tf.multiply(logits,targets),(-1,))\n",
    "    x=tf.zeros((batch_size,))\n",
    "    y=tf.ones((batch_size,))\n",
    "    bad_deals = tf.where(z > 0, x, y)\n",
    "\n",
    "    loss2 = tf.multiply(tf.reduce_mean(bad_deals),0.09)\n",
    "    \n",
    "    loss = tf.add(loss1,loss2)\n",
    "    \n",
    "    return loss"
   ]
  },
  {
   "cell_type": "code",
   "execution_count": 28,
   "metadata": {},
   "outputs": [],
   "source": [
    "class Network:\n",
    "    def __init__(self,batch_size,num_steps,lstm_size,num_layers,last_input_size,input_size,learning_rate):\n",
    "        tf.reset_default_graph()\n",
    "        \n",
    "        self.inputs,self.opens,self.targets = build_inputs(batch_size,num_steps,input_size,last_input_size)\n",
    "        \n",
    "        cell, self.initial_state = build_lstm(lstm_size,num_layers,batch_size)\n",
    "        \n",
    "        self.outputs, state = tf.nn.dynamic_rnn(cell=cell,initial_state=self.initial_state,inputs=self.inputs)\n",
    "        \n",
    "        self.final_state = state\n",
    "        \n",
    "        self.logits = build_output(self.outputs,self.opens,lstm_size)\n",
    "        \n",
    "        self.loss = build_loss(self.logits,self.targets,batch_size)\n",
    "        \n",
    "        self.opt = tf.train.AdamOptimizer(learning_rate).minimize(self.loss)"
   ]
  },
  {
   "cell_type": "code",
   "execution_count": 29,
   "metadata": {},
   "outputs": [],
   "source": [
    "model = Network(batch_size=batch_size, num_steps=num_steps,\n",
    "                lstm_size=48, num_layers=2, \n",
    "                last_input_size = last_input_size, input_size=input_size,learning_rate=learning_rate)"
   ]
  },
  {
   "cell_type": "code",
   "execution_count": 30,
   "metadata": {},
   "outputs": [],
   "source": [
    "def get_batch():\n",
    "    l=(len(data)-num_steps*batch_size-1)//4\n",
    "    for i in range(l):\n",
    "                \n",
    "        j = len(data)//4\n",
    "        ids = list(range(i,(i+(1+num_steps)*batch_size//4))) + list(range(j,(j+(1+num_steps)*batch_size//4))) + list(range(-1*(j+(1+num_steps)*batch_size//4)-1,-j-1)) + list(range(-1*(i+(1+num_steps)*batch_size//4)-1,-i-1))\n",
    "        \n",
    "        batch = np.reshape(data[ids],(batch_size,num_steps+1,input_size))\n",
    "\n",
    "        yield batch[:,:-1],batch[:,-1,-4:-2],batch[:,-1:,-1],(l-i)<=1"
   ]
  },
  {
   "cell_type": "code",
   "execution_count": 31,
   "metadata": {},
   "outputs": [],
   "source": [
    "def won_deal_prop(y,y_hat):\n",
    "    win_deals = sum((y_hat[:,0]*y[:,0])>0)\n",
    "    return win_deals,win_deals/len(y)"
   ]
  },
  {
   "cell_type": "code",
   "execution_count": 32,
   "metadata": {
    "scrolled": true
   },
   "outputs": [
    {
     "name": "stdout",
     "output_type": "stream",
     "text": [
      "0 0 p -0.007768832 y -0.012113974580902909 loss 0.2796936151699099 won deals 0.4375\n",
      "0 200 p 0.068669595 y 0.0022268162500704847 loss 0.22848208906794587 won deals 0.5625\n",
      "0 400 p 0.025308484 y 0.013017274850728455 loss 0.23458174487864092 won deals 0.5\n",
      "0 600 p -0.06643539 y 0.00991338940490527 loss 0.24528077734402168 won deals 0.375\n",
      "0 800 p -0.031670343 y 0.010285261190507988 loss 0.17933068922735113 won deals 0.6875\n",
      "0 1000 p -0.034267854 y 0.02500114312274926 loss 0.21859949758797817 won deals 0.5\n",
      "0 1200 p 0.0031927596 y 0.019891265038856076 loss 0.1887793702680956 won deals 0.625\n",
      "0 1400 p -0.018177608 y 0.03335338401664334 loss 0.19126100284116845 won deals 0.625\n",
      "0 1600 p -0.0043944977 y -0.0019211402159458046 loss 0.17183772137984848 won deals 0.6875\n",
      "0 1800 p -0.012049908 y -0.007589035679371747 loss 0.17011649945160465 won deals 0.6875\n",
      "0 2000 p -0.0071307225 y -0.013908391624929406 loss 0.23895875574610612 won deals 0.375\n",
      "0 2200 p -0.027828574 y -0.004222803943479958 loss 0.22803886923568928 won deals 0.4375\n",
      "0 2400 p 0.03273548 y 0.0045908507692615785 loss 0.185271922730043 won deals 0.625\n",
      "0 2600 p -0.028286992 y 0.004779042051128446 loss 0.1867454266345634 won deals 0.625\n",
      "0 2800 p 0.0058369534 y -0.008877595194727306 loss 0.22829983785047467 won deals 0.4375\n",
      "0 3000 p -0.02158876 y 0.010766839631659586 loss 0.23869594852141904 won deals 0.375\n",
      "0 3200 p -0.011583895 y -0.026301363653231657 loss 0.21506055816288122 won deals 0.5\n",
      "0 3400 p 0.01653307 y -0.010986242583156391 loss 0.2264872294387873 won deals 0.4375\n",
      "0 3600 p 0.032684963 y 0.008778976741661282 loss 0.2023276304209049 won deals 0.5625\n",
      "0 3800 p 0.011979268 y 0.006828750787168936 loss 0.2256996891846923 won deals 0.4375\n",
      "0 4000 p 0.007307753 y -0.03514693653965173 loss 0.2508749403589973 won deals 0.3125\n",
      "0 4200 p 0.02164545 y -0.006278634565529684 loss 0.19944590352631414 won deals 0.5625\n",
      "0 4400 p 0.005316522 y 0.01713380015573085 loss 0.15107876154968383 won deals 0.75\n",
      "0 4600 p -0.01776839 y 0.009255824090639297 loss 0.19968624986188585 won deals 0.5625\n",
      "0 4800 p -0.0021705872 y 0.01905523938144693 loss 0.2504081672319896 won deals 0.3125\n",
      "0 5000 p -0.00088670733 y 0.003818307766221274 loss 0.2133545501565729 won deals 0.5\n",
      "0 5200 p 0.0012859863 y -0.0005351602634584562 loss 0.16937120591731808 won deals 0.6875\n",
      "0 5400 p 0.0009989771 y 0.018657729534932166 loss 0.21283262670181097 won deals 0.5\n",
      "0 5600 p 0.0032859012 y 0.012657394944146638 loss 0.1848854523193639 won deals 0.625\n",
      "0 5800 p 0.0024489686 y -0.004811277843034256 loss 0.22594121724153446 won deals 0.4375\n",
      "0 6000 p -0.0110275755 y 0.013506035665786786 loss 0.16886687800890632 won deals 0.6875\n",
      "0 6200 p 0.0026345872 y -0.014310047075827281 loss 0.19913114229584108 won deals 0.5625\n",
      "0 6400 p 0.011657521 y 0.009517471398905464 loss 0.24962429784065712 won deals 0.3125\n",
      "0 6600 p -0.018683946 y 0.0 loss 0.2255246710872884 won deals 0.4375\n",
      "0 6800 p -0.018588966 y 0.017272553315377248 loss 0.24970928813226226 won deals 0.3125\n",
      "0 7000 p -0.0009515481 y -0.011452687644649684 loss 0.2257042529142988 won deals 0.4375\n",
      "0 7200 p -0.011787584 y 0.0007991613580649037 loss 0.16823538974396762 won deals 0.6875\n",
      "0 7400 p -0.006679138 y -0.019645839160007394 loss 0.19872646655802362 won deals 0.5625\n",
      "0 7600 p 0.002598255 y 0.00022539557862799597 loss 0.21261922352797338 won deals 0.5\n",
      "0 7800 p 0.00640858 y -0.004849235707496957 loss 0.198756251431762 won deals 0.5625\n",
      "0 8000 p 0.0053614443 y -0.013220788420782448 loss 0.21245419976389798 won deals 0.5\n",
      "0 8200 p -0.004708491 y -0.0037038356387975035 loss 0.19894272250368264 won deals 0.5625\n",
      "0 8400 p -0.006572666 y 0.006057124739298203 loss 0.2376545183819669 won deals 0.375\n",
      "0 8600 p 0.0068158475 y 0.01505365580777962 loss 0.2254649907338681 won deals 0.4375\n",
      "0 8800 p 0.0025277205 y -0.012249757861431121 loss 0.21253041757937471 won deals 0.5\n",
      "0 9000 p 0.013155034 y 0.040347877078408256 loss 0.1684229664291633 won deals 0.6875\n",
      "0 9200 p 0.00918802 y -0.0012210576010307506 loss 0.26034854792733386 won deals 0.25\n",
      "0 9400 p 0.022125347 y -0.030651992455101862 loss 0.1509354679788319 won deals 0.75\n",
      "0 9600 p -0.030177088 y -0.0034822993203764696 loss 0.18407902601303422 won deals 0.625\n",
      "0 9800 p -0.016118536 y 0.02845530752762615 loss 0.19914415309230565 won deals 0.5625\n",
      "0 10000 p -0.0036538714 y 0.0387674697344198 loss 0.16834651804996265 won deals 0.6875\n",
      "0 10200 p -0.020631097 y -0.0020434107550348912 loss 0.2141622224039238 won deals 0.5\n",
      "0 10400 p 0.004506522 y 0.008032780075271084 loss 0.15024867728162067 won deals 0.75\n",
      "0 10600 p -0.013015524 y -0.0011357090365482492 loss 0.2253768248936404 won deals 0.4375\n",
      "0 10800 p 0.0032464445 y 0.004761558195811588 loss 0.1986070948243221 won deals 0.5625\n",
      "0 11000 p 0.006746495 y -0.015942961965538238 loss 0.24947975834887162 won deals 0.3125\n",
      "0 11200 p -0.009892128 y 0.01038699841733104 loss 0.1306646734773638 won deals 0.8125\n",
      "0 11400 p -0.0063799415 y 0.008445998653892062 loss 0.1986656083121074 won deals 0.5625\n",
      "0 11600 p 0.014736578 y -0.006058413844628463 loss 0.22528277085947504 won deals 0.4375\n",
      "0 11800 p 0.012430558 y -0.007325975311488486 loss 0.19912871963094425 won deals 0.5625\n",
      "0 12000 p -0.009810646 y 0.014764276037031454 loss 0.18390491170728446 won deals 0.625\n",
      "0 12200 p 0.0044642524 y -0.007743885671365192 loss 0.18389273708095524 won deals 0.625\n",
      "0 12400 p -0.0045812028 y 0.013606496029721082 loss 0.23790884621527805 won deals 0.375\n",
      "0 12526 p 0.011437972 y 0.006721129819133864 loss 0.1994217978536135 won deals 0.5625\n",
      "Mean loss 0.20793104198374632 Mean won deals prop 0.5235191985311727\n",
      "1 0 p 0.009031568 y -0.012113974580902909 loss 0.1987000238216023 won deals 0.5625\n",
      "1 200 p 0.008744837 y 0.0022268162500704847 loss 0.21241129713809456 won deals 0.5\n",
      "1 400 p 0.009018872 y 0.013017274850728455 loss 0.19868323399768983 won deals 0.5625\n",
      "1 600 p -0.005718549 y 0.00991338940490527 loss 0.18395122261784225 won deals 0.625\n",
      "1 800 p -0.0018373467 y 0.010285261190507988 loss 0.18428542337257345 won deals 0.625\n",
      "1 1000 p -0.0036432128 y 0.02500114312274926 loss 0.18413554053879588 won deals 0.625\n",
      "1 1200 p -0.007752301 y 0.019891265038856076 loss 0.19886863086051518 won deals 0.5625\n",
      "1 1400 p 0.006605318 y 0.03335338401664334 loss 0.21272386791830467 won deals 0.5\n",
      "1 1600 p -0.0036406284 y -0.0019211402159458046 loss 0.21268320040374197 won deals 0.5\n",
      "1 1800 p 0.009871958 y -0.007589035679371747 loss 0.198584134824277 won deals 0.5625\n",
      "1 2000 p 0.0016849171 y -0.013908391624929406 loss 0.19862577600309533 won deals 0.5625\n",
      "1 2200 p 0.006574836 y -0.004222803943479958 loss 0.23754837334051243 won deals 0.375\n",
      "1 2400 p 0.0046224557 y 0.0045908507692615785 loss 0.16803338226780232 won deals 0.6875\n",
      "1 2600 p -0.0011697393 y 0.004779042051128446 loss 0.23736150085037638 won deals 0.375\n",
      "1 2800 p 0.009440356 y -0.008877595194727306 loss 0.22536466736627017 won deals 0.4375\n",
      "1 3000 p 3.675744e-05 y 0.010766839631659586 loss 0.19857723129867372 won deals 0.5625\n",
      "1 3200 p 0.0037562407 y -0.026301363653231657 loss 0.21236033407857394 won deals 0.5\n",
      "1 3400 p -0.00090233143 y -0.010986242583156391 loss 0.19862626364085723 won deals 0.5625\n",
      "1 3600 p -0.007349452 y 0.008778976741661282 loss 0.1986446242069785 won deals 0.5625\n",
      "1 3800 p -0.004665126 y 0.006828750787168936 loss 0.19858282167212965 won deals 0.5625\n",
      "1 4000 p 0.0056696804 y -0.03514693653965173 loss 0.24921489909912914 won deals 0.3125\n",
      "1 4200 p -0.008095777 y -0.006278634565529684 loss 0.18388744967938822 won deals 0.625\n",
      "1 4400 p 0.0066063423 y 0.01713380015573085 loss 0.1985586581226213 won deals 0.5625\n",
      "1 4600 p -0.0036322703 y 0.009255824090639297 loss 0.2375462719112289 won deals 0.375\n",
      "1 4800 p -0.0043142866 y 0.01905523938144693 loss 0.22520144008428847 won deals 0.4375\n",
      "1 5000 p -0.006234078 y 0.003818307766221274 loss 0.16842377375831136 won deals 0.6875\n",
      "1 5200 p 0.0076325047 y -0.0005351602634584562 loss 0.22514273301794394 won deals 0.4375\n",
      "1 5400 p 2.330169e-05 y 0.018657729534932166 loss 0.15055092405764423 won deals 0.75\n",
      "1 5600 p -0.019285273 y 0.012657394944146638 loss 0.18410627372439292 won deals 0.625\n",
      "1 5800 p -0.004208991 y -0.004811277843034256 loss 0.19869720218041695 won deals 0.5625\n",
      "1 6000 p -0.00258765 y 0.013506035665786786 loss 0.16782790200360972 won deals 0.6875\n"
     ]
    },
    {
     "name": "stdout",
     "output_type": "stream",
     "text": [
      "1 6200 p -0.00014318246 y -0.014310047075827281 loss 0.2490158304286755 won deals 0.3125\n",
      "1 6400 p -0.00011383742 y 0.009517471398905464 loss 0.2373620580074971 won deals 0.375\n",
      "1 6600 p -0.0014374079 y 0.0 loss 0.1838634721402081 won deals 0.625\n",
      "1 6800 p -0.00010707881 y 0.017272553315377248 loss 0.2123260097798328 won deals 0.5\n",
      "1 7000 p -0.013369052 y -0.011452687644649684 loss 0.21251606144231666 won deals 0.5\n",
      "1 7200 p -0.0075043887 y 0.0007991613580649037 loss 0.18393478778209563 won deals 0.625\n",
      "1 7400 p -2.5189016e-05 y -0.019645839160007394 loss 0.18400570124236634 won deals 0.625\n",
      "1 7600 p 0.00071586366 y 0.00022539557862799597 loss 0.18396266436599631 won deals 0.625\n",
      "1 7800 p 0.004039039 y -0.004849235707496957 loss 0.21224950794504416 won deals 0.5\n",
      "1 8000 p -0.005516771 y -0.013220788420782448 loss 0.16778168685758163 won deals 0.6875\n",
      "1 8200 p 0.008618471 y -0.0037038356387975035 loss 0.18387691493952996 won deals 0.625\n",
      "1 8400 p -0.0020182095 y 0.006057124739298203 loss 0.19873632661401203 won deals 0.5625\n",
      "1 8600 p -0.008091856 y 0.01505365580777962 loss 0.1840256318730971 won deals 0.625\n",
      "1 8800 p -0.0022864984 y -0.012249757861431121 loss 0.22517574883714797 won deals 0.4375\n",
      "1 9000 p 0.0072652996 y 0.040347877078408256 loss 0.15038149050430213 won deals 0.75\n",
      "1 9200 p 0.0024773204 y -0.0012210576010307506 loss 0.1839582598834757 won deals 0.625\n",
      "1 9400 p 0.006787936 y -0.030651992455101862 loss 0.22540525326124355 won deals 0.4375\n",
      "1 9600 p -0.004188454 y -0.0034822993203764696 loss 0.19863553790808053 won deals 0.5625\n",
      "1 9800 p -0.0021908889 y 0.02845530752762615 loss 0.1305040545865923 won deals 0.8125\n",
      "1 10000 p -0.0041739424 y 0.0387674697344198 loss 0.1842659555058769 won deals 0.625\n",
      "1 10200 p -0.00719853 y -0.0020434107550348912 loss 0.2004043604138445 won deals 0.5625\n",
      "1 10400 p -0.004586946 y 0.008032780075271084 loss 0.19862190299143379 won deals 0.5625\n",
      "1 10600 p -0.0032243393 y -0.0011357090365482492 loss 0.15018708835304098 won deals 0.75\n",
      "1 10800 p -0.0006427192 y 0.004761558195811588 loss 0.13009234428012825 won deals 0.8125\n",
      "1 11000 p 0.0033288938 y -0.015942961965538238 loss 0.1683793151269959 won deals 0.6875\n",
      "1 11200 p 0.0029750974 y 0.01038699841733104 loss 0.16812646469910475 won deals 0.6875\n",
      "1 11400 p -0.00012432272 y 0.008445998653892062 loss 0.21225821329430208 won deals 0.5\n",
      "1 11600 p -0.0025037113 y -0.006058413844628463 loss 0.1985895280366723 won deals 0.5625\n",
      "1 11800 p -0.0021467875 y -0.007325975311488486 loss 0.16819188356374998 won deals 0.6875\n",
      "1 12000 p -0.006540767 y 0.014764276037031454 loss 0.2123518346604623 won deals 0.5\n",
      "1 12200 p -0.0030865069 y -0.007743885671365192 loss 0.1300063298820946 won deals 0.8125\n",
      "1 12400 p -0.0032693292 y 0.013606496029721082 loss 0.22547463152293107 won deals 0.4375\n",
      "1 12526 p 0.0023260305 y 0.006721129819133864 loss 0.1311349813255247 won deals 0.8125\n",
      "Mean loss 0.19328352150265493 Mean won deals prop 0.57740280993055\n",
      "2 0 p 0.006566902 y -0.012113974580902909 loss 0.1986075731294315 won deals 0.5625\n",
      "2 200 p -0.002590521 y 0.0022268162500704847 loss 0.23727915277186018 won deals 0.375\n",
      "2 400 p 0.003124734 y 0.013017274850728455 loss 0.15024797684486382 won deals 0.75\n",
      "2 600 p -0.0042218207 y 0.00991338940490527 loss 0.18396114559083243 won deals 0.625\n",
      "2 800 p -0.003960531 y 0.010285261190507988 loss 0.18415503230680305 won deals 0.625\n",
      "2 1000 p 0.0049064383 y 0.02500114312274926 loss 0.1503114306021259 won deals 0.75\n",
      "2 1200 p 0.0017248855 y 0.019891265038856076 loss 0.19870599506966427 won deals 0.5625\n",
      "2 1400 p 0.0023474009 y 0.03335338401664334 loss 0.21259263382719185 won deals 0.5\n",
      "2 1600 p -0.0025548264 y -0.0019211402159458046 loss 0.13081764865462853 won deals 0.8125\n",
      "2 1800 p 0.002157242 y -0.007589035679371747 loss 0.16778323552361307 won deals 0.6875\n",
      "2 2000 p 0.002354125 y -0.013908391624929406 loss 0.18391169754685008 won deals 0.625\n",
      "2 2200 p -0.0008810032 y -0.004222803943479958 loss 0.18420063316361168 won deals 0.625\n",
      "2 2400 p 0.0024492457 y 0.0045908507692615785 loss 0.19867833083895858 won deals 0.5625\n",
      "2 2600 p 0.0029872013 y 0.004779042051128446 loss 0.16784907668742982 won deals 0.6875\n",
      "2 2800 p -0.0023293926 y -0.008877595194727306 loss 0.1839280736836459 won deals 0.625\n",
      "2 3000 p -0.0017076456 y 0.010766839631659586 loss 0.1838285182878962 won deals 0.625\n",
      "2 3200 p 0.004890469 y -0.026301363653231657 loss 0.19867398070773182 won deals 0.5625\n",
      "2 3400 p -0.0026911201 y -0.010986242583156391 loss 0.18384468906998572 won deals 0.625\n",
      "2 3600 p 0.00038767676 y 0.008778976741661282 loss 0.2252431056182653 won deals 0.4375\n",
      "2 3800 p 0.0018102302 y 0.006828750787168936 loss 0.18394716214497378 won deals 0.625\n",
      "2 4000 p 0.0022510416 y -0.03514693653965173 loss 0.1989289775548528 won deals 0.5625\n",
      "2 4200 p 0.00450275 y -0.006278634565529684 loss 0.2122618901440494 won deals 0.5\n",
      "2 4400 p -0.002854753 y 0.01713380015573085 loss 0.18387850531874572 won deals 0.625\n",
      "2 4600 p 4.6084635e-05 y 0.009255824090639297 loss 0.19860444067896066 won deals 0.5625\n",
      "2 4800 p -0.0071820184 y 0.01905523938144693 loss 0.16797759897742517 won deals 0.6875\n",
      "2 5000 p -0.0025636521 y 0.003818307766221274 loss 0.19894786257095384 won deals 0.5625\n",
      "2 5200 p -0.00031397655 y -0.0005351602634584562 loss 0.1678115586035978 won deals 0.6875\n",
      "2 5400 p -0.0014931688 y 0.018657729534932166 loss 0.2124871095786723 won deals 0.5\n",
      "2 5600 p -0.008107603 y 0.012657394944146638 loss 0.13012636624717416 won deals 0.8125\n",
      "2 5800 p 0.0005519644 y -0.004811277843034256 loss 0.1987365328076794 won deals 0.5625\n",
      "2 6000 p 0.0012952138 y 0.013506035665786786 loss 0.16780727409416296 won deals 0.6875\n",
      "2 6200 p 0.00219837 y -0.014310047075827281 loss 0.19868750892835935 won deals 0.5625\n",
      "2 6400 p 0.0023249271 y 0.009517471398905464 loss 0.198614794458752 won deals 0.5625\n",
      "2 6600 p -0.006870757 y 0.0 loss 0.21228353751219334 won deals 0.5\n",
      "2 6800 p 0.0027906224 y 0.017272553315377248 loss 0.1679897960518703 won deals 0.6875\n",
      "2 7000 p -0.00048340927 y -0.011452687644649684 loss 0.16812251504848455 won deals 0.6875\n",
      "2 7200 p -0.0004498728 y 0.0007991613580649037 loss 0.1838775227293892 won deals 0.625\n",
      "2 7400 p 0.0036345928 y -0.019645839160007394 loss 0.16796622717981016 won deals 0.6875\n",
      "2 7600 p -0.0035972672 y 0.00022539557862799597 loss 0.19865242552725107 won deals 0.5625\n",
      "2 7800 p 0.0011898552 y -0.004849235707496957 loss 0.13002950229263266 won deals 0.8125\n",
      "2 8000 p -0.0015500444 y -0.013220788420782448 loss 0.16786975493904158 won deals 0.6875\n",
      "2 8200 p 0.0014809398 y -0.0037038356387975035 loss 0.1501706607861996 won deals 0.75\n",
      "2 8400 p -0.00059132767 y 0.006057124739298203 loss 0.15032698163996466 won deals 0.75\n",
      "2 8600 p 0.0016033344 y 0.01505365580777962 loss 0.19868194962555075 won deals 0.5625\n",
      "2 8800 p -0.00010741316 y -0.012249757861431121 loss 0.1838878953666137 won deals 0.625\n",
      "2 9000 p 0.006851172 y 0.040347877078408256 loss 0.1987075417530112 won deals 0.5625\n",
      "2 9200 p 0.00054605235 y -0.0012210576010307506 loss 0.19883555602631028 won deals 0.5625\n",
      "2 9400 p -0.0009833577 y -0.030651992455101862 loss 0.18403720056853665 won deals 0.625\n",
      "2 9600 p 0.0013375733 y -0.0034822993203764696 loss 0.2122605563061567 won deals 0.5\n",
      "2 9800 p -0.004129958 y 0.02845530752762615 loss 0.21250897942532535 won deals 0.5\n",
      "2 10000 p -0.0019214707 y 0.0387674697344198 loss 0.16812902389022027 won deals 0.6875\n",
      "2 10200 p 0.0017596318 y -0.0020434107550348912 loss 0.16974365271245231 won deals 0.6875\n",
      "2 10400 p -0.0019644864 y 0.008032780075271084 loss 0.18398011925507268 won deals 0.625\n",
      "2 10600 p 0.005307653 y -0.0011357090365482492 loss 0.19866872104686928 won deals 0.5625\n",
      "2 10800 p -0.0017328968 y 0.004761558195811588 loss 0.19857901348179688 won deals 0.5625\n",
      "2 11000 p -0.00075643207 y -0.015942961965538238 loss 0.1305757480723158 won deals 0.8125\n",
      "2 11200 p -0.0015776064 y 0.01038699841733104 loss 0.19875786332403841 won deals 0.5625\n",
      "2 11400 p -0.008309141 y 0.008445998653892062 loss 0.16784070368445345 won deals 0.6875\n",
      "2 11600 p 6.428338e-05 y -0.006058413844628463 loss 0.2122788168718448 won deals 0.5\n",
      "2 11800 p -0.0024953003 y -0.007325975311488486 loss 0.184274921492287 won deals 0.625\n",
      "2 12000 p -0.003954909 y 0.014764276037031454 loss 0.1678674137140407 won deals 0.6875\n"
     ]
    },
    {
     "name": "stdout",
     "output_type": "stream",
     "text": [
      "2 12200 p 0.00044593983 y -0.007743885671365192 loss 0.19851440381271623 won deals 0.5625\n",
      "2 12400 p -0.0044567334 y 0.013606496029721082 loss 0.19891596204805756 won deals 0.5625\n",
      "2 12526 p 0.0076299654 y 0.006721129819133864 loss 0.16891743865524408 won deals 0.6875\n",
      "Mean loss 0.1769984398491911 Mean won deals prop 0.6433503632154546\n",
      "3 0 p 0.0023469604 y -0.012113974580902909 loss 0.1838584776923162 won deals 0.625\n",
      "3 200 p -0.001833004 y 0.0022268162500704847 loss 0.18377617639817145 won deals 0.625\n",
      "3 400 p 0.00073625636 y 0.013017274850728455 loss 0.1502215190193396 won deals 0.75\n",
      "3 600 p -8.1623206e-05 y 0.00991338940490527 loss 0.19857610570109172 won deals 0.5625\n",
      "3 800 p -0.004458133 y 0.010285261190507988 loss 0.15055524807714232 won deals 0.75\n",
      "3 1000 p 0.0019697982 y 0.02500114312274926 loss 0.22529274188535833 won deals 0.4375\n",
      "3 1200 p 0.0003998964 y 0.019891265038856076 loss 0.16809263761669668 won deals 0.6875\n",
      "3 1400 p -0.002943169 y 0.03335338401664334 loss 0.16820972921337815 won deals 0.6875\n",
      "3 1600 p -0.0012678651 y -0.0019211402159458046 loss 0.15083025793062993 won deals 0.75\n",
      "3 1800 p -0.0016107135 y -0.007589035679371747 loss 0.1501027857760839 won deals 0.75\n",
      "3 2000 p 0.007456825 y -0.013908391624929406 loss 0.15020068051154511 won deals 0.75\n",
      "3 2200 p -0.00022816192 y -0.004222803943479958 loss 0.130496054493337 won deals 0.8125\n",
      "3 2400 p 0.0004615751 y 0.0045908507692615785 loss 0.16798743986786796 won deals 0.6875\n",
      "3 2600 p 0.00010143337 y 0.004779042051128446 loss 0.16784092563823186 won deals 0.6875\n",
      "3 2800 p -8.249935e-05 y -0.008877595194727306 loss 0.13010253820349518 won deals 0.8125\n",
      "3 3000 p -0.0014566791 y 0.010766839631659586 loss 0.16778713765456554 won deals 0.6875\n",
      "3 3200 p -0.0007346689 y -0.026301363653231657 loss 0.18394120797280247 won deals 0.625\n",
      "3 3400 p 0.0024064144 y -0.010986242583156391 loss 0.18380982284775405 won deals 0.625\n",
      "3 3600 p -0.0029567524 y 0.008778976741661282 loss 0.16799654287126148 won deals 0.6875\n",
      "3 3800 p -0.0037456118 y 0.006828750787168936 loss 0.22516399407288953 won deals 0.4375\n",
      "3 4000 p -0.004351776 y -0.03514693653965173 loss 0.15046694911936756 won deals 0.75\n",
      "3 4200 p 0.00073775346 y -0.006278634565529684 loss 0.19861332207914817 won deals 0.5625\n",
      "3 4400 p -0.0051517165 y 0.01713380015573085 loss 0.21226998951917336 won deals 0.5\n",
      "3 4600 p -0.00030509825 y 0.009255824090639297 loss 0.15016960028129295 won deals 0.75\n",
      "3 4800 p 0.0019209622 y 0.01905523938144693 loss 0.16788461152530781 won deals 0.6875\n",
      "3 5000 p -0.0024633466 y 0.003818307766221274 loss 0.18412221778533808 won deals 0.625\n",
      "3 5200 p -0.0038429345 y -0.0005351602634584562 loss 0.1299814767318379 won deals 0.8125\n",
      "3 5400 p 0.00443759 y 0.018657729534932166 loss 0.13028459858588426 won deals 0.8125\n",
      "3 5600 p -0.003477469 y 0.012657394944146638 loss 0.16790911813618944 won deals 0.6875\n",
      "3 5800 p 0.0012975535 y -0.004811277843034256 loss 0.18406076080718184 won deals 0.625\n",
      "3 6000 p 0.0002860839 y 0.013506035665786786 loss 0.15011523782266556 won deals 0.75\n",
      "3 6200 p 0.002612881 y -0.014310047075827281 loss 0.15034764778073553 won deals 0.75\n",
      "3 6400 p 0.004886925 y 0.009517471398905464 loss 0.13015900551717255 won deals 0.8125\n",
      "3 6600 p -0.0033908612 y 0.0 loss 0.13001223977633844 won deals 0.8125\n",
      "3 6800 p 0.00032532518 y 0.017272553315377248 loss 0.13021777277745264 won deals 0.8125\n",
      "3 7000 p 0.00010377122 y -0.011452687644649684 loss 0.1987973787109019 won deals 0.5625\n",
      "3 7200 p -0.0023439864 y 0.0007991613580649037 loss 0.16784659090906742 won deals 0.6875\n",
      "3 7400 p 0.0033735656 y -0.019645839160007394 loss 0.21231602635850644 won deals 0.5\n",
      "3 7600 p -0.0022245958 y 0.00022539557862799597 loss 0.19864465233728948 won deals 0.5625\n",
      "3 7800 p -0.0010285052 y -0.004849235707496957 loss 0.16781383401102523 won deals 0.6875\n",
      "3 8000 p -0.001811885 y -0.013220788420782448 loss 0.18385172028215255 won deals 0.625\n",
      "3 8200 p -0.0035914548 y -0.0037038356387975035 loss 0.1985417812910146 won deals 0.5625\n",
      "3 8400 p 0.00034875213 y 0.006057124739298203 loss 0.18400544817324707 won deals 0.625\n",
      "3 8600 p -0.004803737 y 0.01505365580777962 loss 0.1064990852743701 won deals 0.875\n",
      "3 8800 p -0.0013178398 y -0.012249757861431121 loss 0.1986173077948956 won deals 0.5625\n",
      "3 9000 p -0.0018345895 y 0.040347877078408256 loss 0.16808837689387793 won deals 0.6875\n",
      "3 9200 p 0.006430407 y -0.0012210576010307506 loss 0.2123686138863398 won deals 0.5\n",
      "3 9400 p 0.0024663105 y -0.030651992455101862 loss 0.16810974590772224 won deals 0.6875\n",
      "3 9600 p -0.0016523842 y -0.0034822993203764696 loss 0.150131795521331 won deals 0.75\n",
      "3 9800 p -0.00163685 y 0.02845530752762615 loss 0.1841111400467518 won deals 0.625\n",
      "3 10000 p -0.00018989178 y 0.0387674697344198 loss 0.1681816891549205 won deals 0.6875\n",
      "3 10200 p -0.0035392893 y -0.0020434107550348912 loss 0.10937310114983355 won deals 0.875\n",
      "3 10400 p 0.0027108288 y 0.008032780075271084 loss 0.16792038287703762 won deals 0.6875\n",
      "3 10600 p -0.00026232796 y -0.0011357090365482492 loss 0.13010460695701767 won deals 0.8125\n",
      "3 10800 p 0.003136776 y 0.004761558195811588 loss 0.15014929419888967 won deals 0.75\n",
      "3 11000 p 0.0004918738 y -0.015942961965538238 loss 0.10686058879335289 won deals 0.875\n",
      "3 11200 p -0.0039661643 y 0.01038699841733104 loss 0.18406890700932863 won deals 0.625\n",
      "3 11400 p -0.001156067 y 0.008445998653892062 loss 0.19853713733080605 won deals 0.5625\n",
      "3 11600 p 0.0013142569 y -0.006058413844628463 loss 0.198547879255617 won deals 0.5625\n",
      "3 11800 p -0.0005109948 y -0.007325975311488486 loss 0.16826492634182855 won deals 0.6875\n",
      "3 12000 p -0.00029158476 y 0.014764276037031454 loss 0.15014892824246504 won deals 0.75\n",
      "3 12200 p -0.0034836007 y -0.007743885671365192 loss 0.1500791631361856 won deals 0.75\n",
      "3 12400 p -0.003640792 y 0.013606496029721082 loss 0.1305065094678101 won deals 0.8125\n",
      "3 12526 p 0.00375452 y 0.006721129819133864 loss 0.1311665672832429 won deals 0.8125\n",
      "Mean loss 0.1680048671057199 Mean won deals prop 0.6784246028578271\n"
     ]
    }
   ],
   "source": [
    "epochs = 4\n",
    "saver = tf.train.Saver(max_to_keep=100)\n",
    "\n",
    "with tf.Session() as sess:\n",
    "    sess.run(tf.global_variables_initializer())\n",
    "   \n",
    "    for e in range(epochs):\n",
    "        \n",
    "        total_loss=0\n",
    "        total_won_deals=0\n",
    "        n_batches=0\n",
    "        new_state = sess.run(model.initial_state)\n",
    "        \n",
    "        for x, x_open, y, last_batch in get_batch():\n",
    "\n",
    "            feed = {model.inputs: x,model.opens:x_open,\n",
    "                    model.targets: y,model.initial_state:new_state\n",
    "                    }\n",
    "                   \n",
    "            fetch = [model.loss,model.final_state,model.logits,model.opt]\n",
    "            if last_batch:\n",
    "                #Last batch must be only used for testing\n",
    "                fetch[-1]=model.outputs\n",
    "                \n",
    "            batch_loss, new_state, y_hat, _ = sess.run(fetch,feed_dict=feed)\n",
    "            batch_loss = batch_loss**0.5\n",
    "            win_deals = sum((y_hat[:,0]*y[:,0])>0)\n",
    "            win_deal_prop = win_deals/len(y)\n",
    "            \n",
    "            if n_batches % 200 == 0 or last_batch:\n",
    "                print(e,n_batches,'p',y_hat[3,0],'y',y[3,0],'loss',batch_loss,'won deals',win_deal_prop)\n",
    "                path = 'checkpoints/e{0}_n{1}_bloss{2}'.format(e,n_batches,batch_loss)\n",
    "                saver.save(sess,save_path=path)\n",
    "                \n",
    "            total_loss+= batch_loss\n",
    "            total_won_deals+=win_deals\n",
    "            \n",
    "            n_batches+=1           \n",
    "               \n",
    "        print('Mean loss',total_loss/n_batches, 'Mean won deals prop',total_won_deals/(n_batches*len(y)))"
   ]
  }
 ],
 "metadata": {
  "kernelspec": {
   "display_name": "Python 3",
   "language": "python",
   "name": "python3"
  },
  "language_info": {
   "codemirror_mode": {
    "name": "ipython",
    "version": 3
   },
   "file_extension": ".py",
   "mimetype": "text/x-python",
   "name": "python",
   "nbconvert_exporter": "python",
   "pygments_lexer": "ipython3",
   "version": "3.6.5"
  }
 },
 "nbformat": 4,
 "nbformat_minor": 2
}
