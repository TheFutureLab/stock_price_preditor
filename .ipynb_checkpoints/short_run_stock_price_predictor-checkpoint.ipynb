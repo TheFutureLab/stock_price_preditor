{
 "cells": [
  {
   "cell_type": "markdown",
   "metadata": {},
   "source": [
    "# Future work to do\n",
    "\n",
    "Implementing decoder, for making Long Run predictions\n",
    "\n",
    "Use other datasets, e.g. dividends\n",
    "\n",
    "Profiling companies and using a lot of pairs\n",
    "\n",
    "Add convolutional layers\n",
    "\n",
    "Apply new models. e.g. Arima,Boosting\n",
    "\n",
    "Trying new interesting techniques, like GANs\n",
    "\n",
    "Use Unstructured Datasets"
   ]
  },
  {
   "cell_type": "code",
   "execution_count": 1,
   "metadata": {},
   "outputs": [],
   "source": [
    "%matplotlib inline\n",
    "import pandas as pd\n",
    "import tensorflow as tf\n",
    "import numpy as np\n",
    "from statsmodels.tsa.stattools import coint\n",
    "from sklearn.preprocessing import MinMaxScaler\n",
    "import seaborn as sns"
   ]
  },
  {
   "cell_type": "code",
   "execution_count": 2,
   "metadata": {},
   "outputs": [],
   "source": [
    "#Loading Pepsi and Coca Cola datasets\n",
    "pep = pd.read_csv('data/market_data/KO.csv')\n",
    "ko = pd.read_csv('data/market_data/PEP.csv')"
   ]
  },
  {
   "cell_type": "code",
   "execution_count": 3,
   "metadata": {},
   "outputs": [],
   "source": [
    "#Merging the datasets\n",
    "df = pd.merge(left=ko,right=pep,left_on='dt',right_on='dt')"
   ]
  },
  {
   "cell_type": "code",
   "execution_count": 4,
   "metadata": {},
   "outputs": [],
   "source": [
    "#Calculating difference between lowest and highest price at that timestep for each company separately\n",
    "df['x_low_high_diff'] = df.high_x - df.low_x\n",
    "df['y_low_high_diff'] = df.high_y - df.low_y"
   ]
  },
  {
   "cell_type": "code",
   "execution_count": 5,
   "metadata": {},
   "outputs": [],
   "source": [
    "#If I try predicting each company's stock price separately will face the problem of seasonality. \n",
    "#Thats's why I calculate ratio of a few variables between the 2 similar companies and later will try to predict the ratio's grouth\n",
    "\n",
    "df['close_ratio'] = df.close_x/df.close_y\n",
    "df['open_ratio'] = df.open_x/df.open_y\n",
    "df['volume_ratio'] = df.volume_x/df.volume_y\n",
    "df['diff_ratio'] = df.x_low_high_diff/df.y_low_high_diff"
   ]
  },
  {
   "cell_type": "code",
   "execution_count": 6,
   "metadata": {},
   "outputs": [],
   "source": [
    "df['dt'] = pd.to_datetime(df.dt)\n",
    "\n",
    "df['month'] = df.dt.dt.month\n",
    "df['year'] = df.dt.dt.year\n",
    "df['dow'] = df.dt.dt.dayofweek\n",
    "df['hour'] = df.dt.dt.hour"
   ]
  },
  {
   "cell_type": "code",
   "execution_count": 7,
   "metadata": {},
   "outputs": [
    {
     "name": "stderr",
     "output_type": "stream",
     "text": [
      "/usr/local/lib/python3.6/dist-packages/ipykernel_launcher.py:10: RuntimeWarning: divide by zero encountered in true_divide\n",
      "  # Remove the CWD from sys.path while we load stuff.\n",
      "/usr/local/lib/python3.6/dist-packages/ipykernel_launcher.py:10: RuntimeWarning: invalid value encountered in true_divide\n",
      "  # Remove the CWD from sys.path while we load stuff.\n"
     ]
    }
   ],
   "source": [
    "df['open_ratio_grouth'] = 1\n",
    "df['close_ratio_grouth'] = 1\n",
    "df['open_close_ratio_grouth'] = 1\n",
    "df['volume_ratio_grouth'] = 1\n",
    "df['diff_ratio_grouth'] = 1 \n",
    "\n",
    "df.loc[1:,'open_ratio_grouth'] = np.array(df['open_ratio'].iloc[1:])/np.array(df['open_ratio'].iloc[:-1])\n",
    "df.loc[1:,'close_ratio_grouth'] = np.array(df['close_ratio'].iloc[1:])/np.array(df['close_ratio'].iloc[:-1])\n",
    "df.loc[1:,'volume_ratio_grouth'] = np.array(df['volume_ratio'].iloc[1:])/np.array(df['volume_ratio'].iloc[:-1])\n",
    "df.loc[1:,'diff_ratio_grouth'] = np.array(df['diff_ratio'].iloc[1:])/np.array(df['diff_ratio'].iloc[:-1])\n",
    "\n",
    "\n",
    "df.loc[:,'open_close_ratio_grouth'] = df['close_ratio']/df['open_ratio']\n",
    "df.loc[:,'open_close_ratio_grouth'] = df['close_ratio']/df['open_ratio']\n",
    "\n",
    "\n",
    "df.drop(df.index[0],inplace=True,axis=0)"
   ]
  },
  {
   "cell_type": "code",
   "execution_count": 8,
   "metadata": {},
   "outputs": [
    {
     "data": {
      "text/html": [
       "<div>\n",
       "<style scoped>\n",
       "    .dataframe tbody tr th:only-of-type {\n",
       "        vertical-align: middle;\n",
       "    }\n",
       "\n",
       "    .dataframe tbody tr th {\n",
       "        vertical-align: top;\n",
       "    }\n",
       "\n",
       "    .dataframe thead th {\n",
       "        text-align: right;\n",
       "    }\n",
       "</style>\n",
       "<table border=\"1\" class=\"dataframe\">\n",
       "  <thead>\n",
       "    <tr style=\"text-align: right;\">\n",
       "      <th></th>\n",
       "      <th>dt</th>\n",
       "      <th>open_x</th>\n",
       "      <th>high_x</th>\n",
       "      <th>low_x</th>\n",
       "      <th>close_x</th>\n",
       "      <th>volume_x</th>\n",
       "      <th>open_y</th>\n",
       "      <th>high_y</th>\n",
       "      <th>low_y</th>\n",
       "      <th>close_y</th>\n",
       "      <th>...</th>\n",
       "      <th>diff_ratio</th>\n",
       "      <th>month</th>\n",
       "      <th>year</th>\n",
       "      <th>dow</th>\n",
       "      <th>hour</th>\n",
       "      <th>open_ratio_grouth</th>\n",
       "      <th>close_ratio_grouth</th>\n",
       "      <th>open_close_ratio_grouth</th>\n",
       "      <th>volume_ratio_grouth</th>\n",
       "      <th>diff_ratio_grouth</th>\n",
       "    </tr>\n",
       "  </thead>\n",
       "  <tbody>\n",
       "    <tr>\n",
       "      <th>1</th>\n",
       "      <td>2010-01-04 10:00:00</td>\n",
       "      <td>60.710</td>\n",
       "      <td>60.980</td>\n",
       "      <td>60.70</td>\n",
       "      <td>60.951</td>\n",
       "      <td>832628</td>\n",
       "      <td>57.000</td>\n",
       "      <td>57.1100</td>\n",
       "      <td>56.90</td>\n",
       "      <td>57.01</td>\n",
       "      <td>...</td>\n",
       "      <td>1.333333</td>\n",
       "      <td>1</td>\n",
       "      <td>2010</td>\n",
       "      <td>0</td>\n",
       "      <td>10</td>\n",
       "      <td>0.994941</td>\n",
       "      <td>1.003959</td>\n",
       "      <td>1.003794</td>\n",
       "      <td>1.333854</td>\n",
       "      <td>0.751515</td>\n",
       "    </tr>\n",
       "    <tr>\n",
       "      <th>2</th>\n",
       "      <td>2010-01-04 10:15:00</td>\n",
       "      <td>60.950</td>\n",
       "      <td>61.099</td>\n",
       "      <td>60.87</td>\n",
       "      <td>61.055</td>\n",
       "      <td>1123591</td>\n",
       "      <td>57.005</td>\n",
       "      <td>57.1600</td>\n",
       "      <td>56.95</td>\n",
       "      <td>57.16</td>\n",
       "      <td>...</td>\n",
       "      <td>1.090476</td>\n",
       "      <td>1</td>\n",
       "      <td>2010</td>\n",
       "      <td>0</td>\n",
       "      <td>10</td>\n",
       "      <td>1.003865</td>\n",
       "      <td>0.999078</td>\n",
       "      <td>0.999006</td>\n",
       "      <td>0.986506</td>\n",
       "      <td>0.817857</td>\n",
       "    </tr>\n",
       "    <tr>\n",
       "      <th>3</th>\n",
       "      <td>2010-01-04 10:30:00</td>\n",
       "      <td>61.055</td>\n",
       "      <td>61.170</td>\n",
       "      <td>61.02</td>\n",
       "      <td>61.140</td>\n",
       "      <td>1387369</td>\n",
       "      <td>57.160</td>\n",
       "      <td>57.2200</td>\n",
       "      <td>57.11</td>\n",
       "      <td>57.21</td>\n",
       "      <td>...</td>\n",
       "      <td>1.363636</td>\n",
       "      <td>1</td>\n",
       "      <td>2010</td>\n",
       "      <td>0</td>\n",
       "      <td>10</td>\n",
       "      <td>0.999006</td>\n",
       "      <td>1.000517</td>\n",
       "      <td>1.000517</td>\n",
       "      <td>1.004114</td>\n",
       "      <td>1.250496</td>\n",
       "    </tr>\n",
       "    <tr>\n",
       "      <th>4</th>\n",
       "      <td>2010-01-04 10:45:00</td>\n",
       "      <td>61.140</td>\n",
       "      <td>61.180</td>\n",
       "      <td>61.04</td>\n",
       "      <td>61.062</td>\n",
       "      <td>1644542</td>\n",
       "      <td>57.200</td>\n",
       "      <td>57.2200</td>\n",
       "      <td>57.11</td>\n",
       "      <td>57.14</td>\n",
       "      <td>...</td>\n",
       "      <td>1.272727</td>\n",
       "      <td>1</td>\n",
       "      <td>2010</td>\n",
       "      <td>0</td>\n",
       "      <td>10</td>\n",
       "      <td>1.000692</td>\n",
       "      <td>0.999948</td>\n",
       "      <td>0.999773</td>\n",
       "      <td>1.036124</td>\n",
       "      <td>0.933333</td>\n",
       "    </tr>\n",
       "    <tr>\n",
       "      <th>5</th>\n",
       "      <td>2010-01-04 11:00:00</td>\n",
       "      <td>61.070</td>\n",
       "      <td>61.140</td>\n",
       "      <td>61.00</td>\n",
       "      <td>61.010</td>\n",
       "      <td>2001837</td>\n",
       "      <td>57.140</td>\n",
       "      <td>57.1685</td>\n",
       "      <td>57.05</td>\n",
       "      <td>57.09</td>\n",
       "      <td>...</td>\n",
       "      <td>1.181435</td>\n",
       "      <td>1</td>\n",
       "      <td>2010</td>\n",
       "      <td>0</td>\n",
       "      <td>11</td>\n",
       "      <td>0.999904</td>\n",
       "      <td>1.000023</td>\n",
       "      <td>0.999892</td>\n",
       "      <td>1.084119</td>\n",
       "      <td>0.928270</td>\n",
       "    </tr>\n",
       "  </tbody>\n",
       "</table>\n",
       "<p>5 rows × 26 columns</p>\n",
       "</div>"
      ],
      "text/plain": [
       "                   dt  open_x  high_x  low_x  close_x  volume_x  open_y  \\\n",
       "1 2010-01-04 10:00:00  60.710  60.980  60.70   60.951    832628  57.000   \n",
       "2 2010-01-04 10:15:00  60.950  61.099  60.87   61.055   1123591  57.005   \n",
       "3 2010-01-04 10:30:00  61.055  61.170  61.02   61.140   1387369  57.160   \n",
       "4 2010-01-04 10:45:00  61.140  61.180  61.04   61.062   1644542  57.200   \n",
       "5 2010-01-04 11:00:00  61.070  61.140  61.00   61.010   2001837  57.140   \n",
       "\n",
       "    high_y  low_y  close_y        ...          diff_ratio  month  year  dow  \\\n",
       "1  57.1100  56.90    57.01        ...            1.333333      1  2010    0   \n",
       "2  57.1600  56.95    57.16        ...            1.090476      1  2010    0   \n",
       "3  57.2200  57.11    57.21        ...            1.363636      1  2010    0   \n",
       "4  57.2200  57.11    57.14        ...            1.272727      1  2010    0   \n",
       "5  57.1685  57.05    57.09        ...            1.181435      1  2010    0   \n",
       "\n",
       "   hour  open_ratio_grouth  close_ratio_grouth  open_close_ratio_grouth  \\\n",
       "1    10           0.994941            1.003959                 1.003794   \n",
       "2    10           1.003865            0.999078                 0.999006   \n",
       "3    10           0.999006            1.000517                 1.000517   \n",
       "4    10           1.000692            0.999948                 0.999773   \n",
       "5    11           0.999904            1.000023                 0.999892   \n",
       "\n",
       "   volume_ratio_grouth  diff_ratio_grouth  \n",
       "1             1.333854           0.751515  \n",
       "2             0.986506           0.817857  \n",
       "3             1.004114           1.250496  \n",
       "4             1.036124           0.933333  \n",
       "5             1.084119           0.928270  \n",
       "\n",
       "[5 rows x 26 columns]"
      ]
     },
     "execution_count": 8,
     "metadata": {},
     "output_type": "execute_result"
    }
   ],
   "source": [
    "df.head()"
   ]
  },
  {
   "cell_type": "code",
   "execution_count": 9,
   "metadata": {},
   "outputs": [
    {
     "data": {
      "text/plain": [
       "<matplotlib.axes._subplots.AxesSubplot at 0x7f698f427a20>"
      ]
     },
     "execution_count": 9,
     "metadata": {},
     "output_type": "execute_result"
    },
    {
     "data": {
      "image/png": "[encoded data removed]",
      "text/plain": [
       "<Figure size 432x288 with 1 Axes>"
      ]
     },
     "metadata": {},
     "output_type": "display_data"
    }
   ],
   "source": [
    "#Here we see artificial grouth in feb 2013\n",
    "df.plot(x='dt',y='open_ratio')"
   ]
  },
  {
   "cell_type": "code",
   "execution_count": 10,
   "metadata": {},
   "outputs": [],
   "source": [
    "#subtract 1 from ratio_grouth, so if ratio decreases, ratio_grouth be negative. \n",
    "#It makes loss calculation easier and debugging, exploratory analysis more clear.  \n",
    "df.loc[:,['open_ratio_grouth','close_ratio_grouth','open_close_ratio_grouth']]-=1\n",
    "#because initial weights of tensorflow fully connected layers are a bit high for our target value,\n",
    "#in stead of setting custom smaller weights I decided to make the target a bit larger by multiplying with 10\n",
    "df.loc[:,'close_ratio_grouth']*=10\n",
    "\n",
    "#exploring data after artificial grouth\n",
    "ea_df = df[df.open_ratio>2]"
   ]
  },
  {
   "cell_type": "code",
   "execution_count": 11,
   "metadata": {},
   "outputs": [
    {
     "data": {
      "text/plain": [
       "<matplotlib.axes._subplots.AxesSubplot at 0x7f698f127c50>"
      ]
     },
     "execution_count": 11,
     "metadata": {},
     "output_type": "execute_result"
    },
    {
     "data": {
      "image/png": "[encoded data removed]",
      "text/plain": [
       "<Figure size 432x288 with 1 Axes>"
      ]
     },
     "metadata": {},
     "output_type": "display_data"
    }
   ],
   "source": [
    "df.plot(x='dt',y='open_close_ratio_grouth')"
   ]
  },
  {
   "cell_type": "markdown",
   "metadata": {},
   "source": [
    "sns.jointplot(x=\"month\", y=\"open_ratio\", data=df, kind=\"kde\", color=\"m\")"
   ]
  },
  {
   "cell_type": "code",
   "execution_count": 12,
   "metadata": {},
   "outputs": [
    {
     "data": {
      "text/plain": [
       "<matplotlib.axes._subplots.AxesSubplot at 0x7f698eeb1dd8>"
      ]
     },
     "execution_count": 12,
     "metadata": {},
     "output_type": "execute_result"
    },
    {
     "data": {
      "image/png": "[encoded data removed]",
      "text/plain": [
       "<Figure size 432x288 with 1 Axes>"
      ]
     },
     "metadata": {},
     "output_type": "display_data"
    }
   ],
   "source": [
    "sns.barplot(x='month',y='open_ratio_grouth',data=ea_df)"
   ]
  },
  {
   "cell_type": "code",
   "execution_count": 13,
   "metadata": {},
   "outputs": [
    {
     "data": {
      "text/plain": [
       "<matplotlib.axes._subplots.AxesSubplot at 0x7f698f0f9198>"
      ]
     },
     "execution_count": 13,
     "metadata": {},
     "output_type": "execute_result"
    },
    {
     "data": {
      "image/png": "[encoded data removed]",
      "text/plain": [
       "<Figure size 432x288 with 1 Axes>"
      ]
     },
     "metadata": {},
     "output_type": "display_data"
    }
   ],
   "source": [
    "sns.barplot(x='month',y='open_ratio_grouth',data=ea_df)"
   ]
  },
  {
   "cell_type": "code",
   "execution_count": 14,
   "metadata": {},
   "outputs": [
    {
     "data": {
      "text/plain": [
       "<matplotlib.axes._subplots.AxesSubplot at 0x7f698edda630>"
      ]
     },
     "execution_count": 14,
     "metadata": {},
     "output_type": "execute_result"
    },
    {
     "data": {
      "image/png": "[encoded data removed]",
      "text/plain": [
       "<Figure size 432x288 with 1 Axes>"
      ]
     },
     "metadata": {},
     "output_type": "display_data"
    }
   ],
   "source": [
    "sns.barplot(x='hour',y='open_ratio_grouth',data=ea_df)"
   ]
  },
  {
   "cell_type": "code",
   "execution_count": 15,
   "metadata": {},
   "outputs": [
    {
     "data": {
      "text/plain": [
       "<matplotlib.axes._subplots.AxesSubplot at 0x7f698ec94320>"
      ]
     },
     "execution_count": 15,
     "metadata": {},
     "output_type": "execute_result"
    },
    {
     "data": {
      "image/png": "[encoded data removed]",
      "text/plain": [
       "<Figure size 432x288 with 1 Axes>"
      ]
     },
     "metadata": {},
     "output_type": "display_data"
    }
   ],
   "source": [
    "sns.regplot(x='open_ratio_grouth',y='close_ratio_grouth',data=ea_df)"
   ]
  },
  {
   "cell_type": "code",
   "execution_count": 16,
   "metadata": {},
   "outputs": [
    {
     "data": {
      "text/plain": [
       "<matplotlib.axes._subplots.AxesSubplot at 0x7f698ec3c6a0>"
      ]
     },
     "execution_count": 16,
     "metadata": {},
     "output_type": "execute_result"
    },
    {
     "data": {
      "image/png": "[encoded data removed]",
      "text/plain": [
       "<Figure size 432x288 with 1 Axes>"
      ]
     },
     "metadata": {},
     "output_type": "display_data"
    }
   ],
   "source": [
    "sns.regplot(ea_df['open_ratio_grouth'].iloc[:-1],ea_df['open_ratio_grouth'].iloc[1:])"
   ]
  },
  {
   "cell_type": "code",
   "execution_count": 17,
   "metadata": {},
   "outputs": [
    {
     "data": {
      "text/plain": [
       "<matplotlib.axes._subplots.AxesSubplot at 0x7f698ec833c8>"
      ]
     },
     "execution_count": 17,
     "metadata": {},
     "output_type": "execute_result"
    },
    {
     "data": {
      "image/png": "[encoded data removed]",
      "text/plain": [
       "<Figure size 432x288 with 1 Axes>"
      ]
     },
     "metadata": {},
     "output_type": "display_data"
    }
   ],
   "source": [
    "sns.regplot(ea_df['close_ratio_grouth'].iloc[:-1],ea_df['close_ratio_grouth'].iloc[1:])"
   ]
  },
  {
   "cell_type": "code",
   "execution_count": 18,
   "metadata": {},
   "outputs": [
    {
     "data": {
      "text/plain": [
       "<matplotlib.axes._subplots.AxesSubplot at 0x7f698eb83be0>"
      ]
     },
     "execution_count": 18,
     "metadata": {},
     "output_type": "execute_result"
    },
    {
     "data": {
      "image/png": "[encoded data removed]",
      "text/plain": [
       "<Figure size 432x288 with 1 Axes>"
      ]
     },
     "metadata": {},
     "output_type": "display_data"
    }
   ],
   "source": [
    "sns.regplot(ea_df['volume_ratio_grouth'].iloc[:-1],ea_df['close_ratio_grouth'].iloc[1:])"
   ]
  },
  {
   "cell_type": "code",
   "execution_count": 19,
   "metadata": {},
   "outputs": [],
   "source": [
    "df = pd.get_dummies(df,columns=['month','year','dow','hour'])"
   ]
  },
  {
   "cell_type": "code",
   "execution_count": 20,
   "metadata": {},
   "outputs": [],
   "source": [
    "#Because open and close ratios can have special behaviour in the beginning of day or week,\n",
    "#I multiply ratio grouths with respective dummy variables\n",
    "df['org_9'] = df['open_ratio_grouth']*df['hour_9'] \n",
    "df['org_0_9'] = df['open_ratio_grouth']*df['hour_9']*df['dow_0'] \n",
    "df['crg_4_16'] = df['close_ratio_grouth']*df['hour_16']*df['dow_4']\n",
    "df['crg_16'] = df['close_ratio_grouth']*df['hour_16']"
   ]
  },
  {
   "cell_type": "code",
   "execution_count": 21,
   "metadata": {},
   "outputs": [],
   "source": [
    "scaler = MinMaxScaler(feature_range=(-0.5,0.5))\n",
    "df[['org_9','org_0_9','high_x','low_x','high_y','low_y','close_ratio','open_close_ratio_grouth','volume_ratio_grouth','open_ratio','open_ratio_grouth']] = scaler.fit_transform(df[['org_9','org_0_9','high_x','low_x','high_y','low_y','close_ratio','open_close_ratio_grouth','volume_ratio_grouth','open_ratio','open_ratio_grouth']])"
   ]
  },
  {
   "cell_type": "code",
   "execution_count": 22,
   "metadata": {},
   "outputs": [],
   "source": [
    "#All the features to be used to make prediction \n",
    "cols = ['org_9','org_0_9','crg_4_16','crg_16','high_x','low_x','high_y','low_y', 'month_1', 'month_2',\n",
    "       'month_3', 'month_4', 'month_5', 'month_6', 'month_7', 'month_8',\n",
    "       'month_9', 'month_10', 'month_11', 'month_12', 'year_2010', 'year_2011',\n",
    "       'year_2012', 'year_2013', 'year_2014', 'year_2015', 'year_2016',\n",
    "       'year_2017', 'dow_0', 'dow_1', 'dow_2', 'dow_3', 'dow_4', 'hour_9',\n",
    "       'hour_10', 'hour_11', 'hour_12', 'hour_13', 'hour_14', 'hour_15',\n",
    "       'hour_16','close_ratio','open_close_ratio_grouth','volume_ratio_grouth','open_ratio','open_ratio_grouth','close_ratio_grouth']"
   ]
  },
  {
   "cell_type": "code",
   "execution_count": 23,
   "metadata": {},
   "outputs": [],
   "source": [
    "batch_size = 32\n",
    "#number of features\n",
    "input_size = len(cols)\n",
    "#number of features to be used in the time step of the target value\n",
    "#As our goal is predicting close ratio grouth I also use the open_ratio and open_ratio_grouth of the target's time time step\n",
    "last_input_size = 2\n",
    "#how many timesteps to look back\n",
    "num_steps = 140\n",
    "num_lstm_layers = 2\n",
    "lstm_size = 68\n",
    "learning_rate = 0.00001\n",
    "epochs = 4\n",
    "\n",
    "data = df[cols].values"
   ]
  },
  {
   "cell_type": "code",
   "execution_count": 24,
   "metadata": {},
   "outputs": [],
   "source": [
    "def build_inputs(batch_size,num_steps,input_size,last_input_size):\n",
    "    inputs = tf.placeholder(shape=(batch_size,num_steps,input_size),dtype=tf.float32,name='inputs')\n",
    "    #opens is the input of target's timestep\n",
    "    opens = tf.placeholder(shape=(batch_size,last_input_size),dtype=tf.float32,name='opens')\n",
    "    targets = tf.placeholder(shape=(batch_size,1),dtype=tf.float32,name='targets')\n",
    "    \n",
    "    return inputs,opens,targets"
   ]
  },
  {
   "cell_type": "code",
   "execution_count": 25,
   "metadata": {},
   "outputs": [],
   "source": [
    "def build_lstm(lstm_size,num_layers,batch_size):\n",
    "    \n",
    "    stacked_rnn = []\n",
    "    for layer in range(num_layers):\n",
    "        lstm = tf.contrib.rnn.BasicLSTMCell(lstm_size)\n",
    "        drop = tf.contrib.rnn.DropoutWrapper(lstm,output_keep_prob=0.7)\n",
    "        stacked_rnn.append(drop)\n",
    "    \n",
    "    cell = tf.contrib.rnn.MultiRNNCell(cells=stacked_rnn, state_is_tuple=True)\n",
    "    \n",
    "    initial_state = cell.zero_state(batch_size,dtype=tf.float32)\n",
    "    \n",
    "    return cell, initial_state"
   ]
  },
  {
   "cell_type": "code",
   "execution_count": 26,
   "metadata": {},
   "outputs": [],
   "source": [
    "def build_output(lstm_outputs,opens,in_size,out_size=1):\n",
    "    last_output = lstm_outputs[:,-1,:]\n",
    "    \n",
    "    #MLP\n",
    "    x1 = tf.contrib.layers.fully_connected(last_output,int(1.4*in_size),activation_fn=None)\n",
    "    x1 = tf.layers.batch_normalization(x1)\n",
    "    #leaky rely\n",
    "    x1 = tf.maximum(x1,x1*0.2)\n",
    "    x1 = tf.nn.dropout(x1,0.7)\n",
    "    \n",
    "    #in this step we concat the timeseries output we target timestep's values\n",
    "    x2 = tf.contrib.layers.fully_connected(tf.concat([x1,opens],axis=1),in_size,activation_fn=None)\n",
    "    x2 = tf.layers.batch_normalization(x2)\n",
    "    x2 = tf.maximum(x2,x2*0.2)\n",
    "    x2 = tf.nn.dropout(x2,0.7)\n",
    "    \n",
    "    x3 = tf.contrib.layers.fully_connected(x2,int(0.5*in_size),activation_fn=None)\n",
    "    x3 = tf.layers.batch_normalization(x3)\n",
    "    x3 = tf.maximum(x3,x3*0.2)\n",
    "    x3 = tf.nn.dropout(x3,0.7)\n",
    "    \n",
    "    outputs = tf.contrib.layers.fully_connected(x3,out_size,activation_fn=None)\n",
    "    \n",
    "    return outputs"
   ]
  },
  {
   "cell_type": "code",
   "execution_count": 27,
   "metadata": {},
   "outputs": [],
   "source": [
    "def build_loss(outputs, targets, batch_size, out_size=1):\n",
    "    #simply calculating  squared difference\n",
    "    loss1 = tf.reduce_mean(tf.squared_difference(outputs,targets))\n",
    "    \n",
    "    #calculate number of deals where predicted grouth but we had decrease and vice-versa\n",
    "    z = tf.reshape(tf.multiply(outputs,targets),(-1,))\n",
    "    x=tf.zeros((batch_size,))\n",
    "    y=tf.ones((batch_size,))\n",
    "    bad_deals = tf.where(z > 0, x, y)\n",
    "\n",
    "    loss2 = tf.multiply(tf.reduce_mean(bad_deals),0.09)\n",
    "    \n",
    "    \n",
    "    loss = tf.add(loss1,loss2)\n",
    "    \n",
    "    return loss"
   ]
  },
  {
   "cell_type": "code",
   "execution_count": 28,
   "metadata": {},
   "outputs": [],
   "source": [
    "class Network:\n",
    "    def __init__(self,batch_size,num_steps,lstm_size,num_lstm_layers,last_input_size,input_size,learning_rate):\n",
    "        tf.reset_default_graph()\n",
    "        \n",
    "        self.inputs,self.opens,self.targets = build_inputs(batch_size,num_steps,input_size,last_input_size)\n",
    "        \n",
    "        cell, self.initial_state = build_lstm(lstm_size,num_lstm_layers,batch_size)\n",
    "        \n",
    "        self.lstm_outputs, state = tf.nn.dynamic_rnn(cell=cell,initial_state=self.initial_state,inputs=self.inputs)\n",
    "        \n",
    "        self.final_state = state\n",
    "        \n",
    "        self.outputs = build_output(self.lstm_outputs,self.opens,lstm_size)\n",
    "        \n",
    "        self.loss = build_loss(self.outputs,self.targets,batch_size)\n",
    "        \n",
    "        self.opt = tf.train.AdamOptimizer(learning_rate).minimize(self.loss)"
   ]
  },
  {
   "cell_type": "code",
   "execution_count": 29,
   "metadata": {},
   "outputs": [],
   "source": [
    "model = Network(batch_size=batch_size, num_steps=num_steps,\n",
    "                lstm_size=lstm_size, num_lstm_layers=num_lstm_layers, \n",
    "                last_input_size = last_input_size, input_size=input_size,learning_rate=learning_rate)"
   ]
  },
  {
   "cell_type": "code",
   "execution_count": 30,
   "metadata": {},
   "outputs": [],
   "source": [
    "def get_batch():\n",
    "    l=(len(data)-num_steps*batch_size-1)//4\n",
    "    #passing thru all timesteps\n",
    "    for i in range(l):\n",
    "                \n",
    "        #collecting batch from 4 different time fields\n",
    "        j = len(data)//4\n",
    "        ids = list(range(i,(i+(1+num_steps)*batch_size//4))) + list(range(j,(j+(1+num_steps)*batch_size//4))) + list(range(-1*(j+(1+num_steps)*batch_size//4)-1,-j-1)) + list(range(-1*(i+(1+num_steps)*batch_size//4)-1,-i-1))\n",
    "        \n",
    "        batch = np.reshape(data[ids],(batch_size,num_steps+1,input_size))\n",
    "\n",
    "        yield batch[:,:-1],batch[:,-1,-4:-2],batch[:,-1:,-1],(l-i)<=100#x,x_open,y,test_batch(last 100 batches are used for testing)"
   ]
  },
  {
   "cell_type": "code",
   "execution_count": 31,
   "metadata": {},
   "outputs": [],
   "source": [
    "#calculating proportion of deals where we managed to correctly predict if the ratio will rise or fall\n",
    "def won_deal_prop(y,y_hat):\n",
    "    win_deals = sum((y_hat[:,0]*y[:,0])>0)\n",
    "    return win_deals,win_deals/len(y)"
   ]
  },
  {
   "cell_type": "code",
   "execution_count": 32,
   "metadata": {
    "scrolled": true
   },
   "outputs": [
    {
     "name": "stdout",
     "output_type": "stream",
     "text": [
      "0 0 p 0.046212275 y -0.005525327114140888 loss 0.2547307346366766 won deals 0.59375\n",
      "0 200 p 0.07067657 y -0.012517587387292917 loss 0.20744451625551777 won deals 0.59375\n",
      "0 400 p 0.055398054 y -0.01863438159207309 loss 0.23572577014003926 won deals 0.46875\n",
      "0 600 p 0.03330395 y 0.009512400233246954 loss 0.23528398833731426 won deals 0.4375\n",
      "0 800 p 0.072685465 y 0.011617378139567869 loss 0.20857903575076836 won deals 0.5625\n",
      "0 1000 p 0.0019637297 y 0.010433357746255645 loss 0.19583570972651107 won deals 0.625\n",
      "0 1200 p 0.031689443 y -0.007835142244716486 loss 0.21711848864073346 won deals 0.5\n",
      "0 1400 p 0.022165824 y 0.010162874905794705 loss 0.18944212301497693 won deals 0.625\n",
      "0 1600 p -0.004476835 y 0.010764831241687478 loss 0.20199776530564081 won deals 0.5625\n",
      "0 1800 p 0.0049790246 y 0.027313005811862023 loss 0.20926403336199875 won deals 0.53125\n",
      "0 2000 p 0.009785537 y -0.002733270657941933 loss 0.2090114861131525 won deals 0.53125\n",
      "0 2200 p -0.021694839 y 0.027879978509008918 loss 0.20075962269298658 won deals 0.5625\n",
      "0 2400 p -0.008248085 y -0.004696305572949866 loss 0.2342554979844512 won deals 0.40625\n",
      "0 2600 p -0.038222782 y -0.007219441954980921 loss 0.22789205748820873 won deals 0.4375\n",
      "0 2800 p -0.012662433 y -0.0029531106556535125 loss 0.2074861566969952 won deals 0.53125\n",
      "0 3000 p -0.054470785 y 0.005699779726795473 loss 0.233291154409742 won deals 0.40625\n",
      "0 3200 p -0.023399148 y -0.0071599891744811295 loss 0.23271806260867106 won deals 0.40625\n",
      "0 3400 p -0.009916551 y 0.013182740004424875 loss 0.17680086486198157 won deals 0.65625\n",
      "0 3600 p -0.032805502 y 0.021824289400833585 loss 0.2329969983976854 won deals 0.40625\n",
      "0 3800 p 0.008970816 y -0.01088288370189483 loss 0.20000509203448694 won deals 0.5625\n",
      "0 4000 p -0.00020668888 y 0.009066198823126648 loss 0.21322233273603136 won deals 0.5\n",
      "0 4200 p 0.017609822 y 0.002076170176197323 loss 0.17746600125994072 won deals 0.65625\n",
      "0 4400 p -0.0063039586 y 0.001440846467053447 loss 0.21326509840734872 won deals 0.5\n",
      "0 4600 p -0.0014111793 y -0.014299252796987627 loss 0.21994793231056828 won deals 0.46875\n",
      "0 4800 p 0.0066657513 y -0.017249998192527816 loss 0.2197695372199696 won deals 0.46875\n",
      "0 5000 p 0.010045091 y -0.011525112678721916 loss 0.24385462221241316 won deals 0.34375\n",
      "0 5200 p 0.0069242413 y -0.0005886236682373092 loss 0.19948722476138292 won deals 0.5625\n",
      "0 5400 p 0.004416701 y 0.007245426840920555 loss 0.1990157102482977 won deals 0.5625\n",
      "0 5600 p 0.02879341 y 0.0054034728631413564 loss 0.20599565067028405 won deals 0.53125\n",
      "0 5800 p -0.015240798 y -0.002293678124728471 loss 0.2193130586534953 won deals 0.46875\n",
      "0 6000 p 0.033847008 y -0.011882692599908262 loss 0.18445423048335227 won deals 0.625\n",
      "0 6200 p -0.0061160033 y 0.0057804575364395205 loss 0.22580649587861795 won deals 0.4375\n",
      "0 6400 p -0.011103194 y 0.0027515167546088293 loss 0.21287447316904784 won deals 0.5\n",
      "0 6600 p 0.005402004 y -0.018920324353428608 loss 0.1994320344812603 won deals 0.5625\n",
      "0 6800 p -0.01650175 y -0.016611610020518253 loss 0.2257006299972615 won deals 0.4375\n",
      "0 7000 p 0.014823076 y -4.2751649335093234e-05 loss 0.19929594526444133 won deals 0.5625\n",
      "0 7200 p 0.0040617525 y 0.1100158702600118 loss 0.1774209896218412 won deals 0.65625\n",
      "0 7400 p -0.0050402544 y 0.021321698056067095 loss 0.21282379606350713 won deals 0.5\n",
      "0 7600 p -0.008039357 y 0.005996042748834807 loss 0.1846760240207021 won deals 0.625\n",
      "0 7800 p -0.0062421495 y -0.00760543246706491 loss 0.21934404774292496 won deals 0.46875\n",
      "0 8000 p 0.0045246417 y 0.01571522259350644 loss 0.1764775103280514 won deals 0.65625\n",
      "0 8200 p -0.008442327 y -0.0011347228855052016 loss 0.20571984298116694 won deals 0.53125\n",
      "0 8400 p -0.009919727 y -0.006984275933666906 loss 0.2061226176881273 won deals 0.53125\n",
      "0 8600 p 0.011119448 y -0.0036232345622411177 loss 0.23151077278347254 won deals 0.40625\n",
      "0 8800 p 0.015199559 y -0.013749999255585621 loss 0.1987982313395743 won deals 0.5625\n",
      "0 9000 p 0.0111619355 y 0.004410159396559532 loss 0.18407721475224442 won deals 0.625\n",
      "0 9200 p -0.007328002 y -0.020021787643599298 loss 0.2192857176983506 won deals 0.46875\n",
      "0 9400 p 0.009050855 y -0.0015576534860262115 loss 0.17628019305924836 won deals 0.65625\n",
      "0 9600 p -0.0050904267 y -0.006982965007360509 loss 0.22577484280163967 won deals 0.4375\n",
      "0 9800 p 0.011314975 y 0.031371127789372455 loss 0.22544332017198992 won deals 0.4375\n",
      "0 10000 p 0.018254511 y -0.0029673590504464276 loss 0.17635653454110428 won deals 0.65625\n",
      "0 10200 p -0.0076959236 y 0.008240799727154968 loss 0.1917095894711929 won deals 0.59375\n",
      "0 10400 p -0.00045401696 y -0.0010773821121168314 loss 0.2191971653231397 won deals 0.46875\n",
      "0 10600 p 0.005915521 y 0.00936467350801884 loss 0.21249160644840023 won deals 0.5\n",
      "0 10800 p -0.0011615567 y -0.010877595949944086 loss 0.21256043262031535 won deals 0.5\n",
      "0 11000 p -0.00045312196 y 0.020379239496643997 loss 0.20585496090639016 won deals 0.53125\n",
      "0 11200 p 6.5329485e-05 y -0.006811258477258386 loss 0.20607709536814747 won deals 0.53125\n",
      "0 11400 p -0.0048749773 y 0.004436310653836983 loss 0.20569374688977743 won deals 0.53125\n",
      "0 11600 p -0.01805145 y -0.010998450002913662 loss 0.21893272261616667 won deals 0.46875\n",
      "0 11800 p 0.015732447 y 0.0016148785020808631 loss 0.19164476325648003 won deals 0.59375\n",
      "Train loss 0.2080331215451624 Train won deals prop 0.5271461220571046\n",
      "Test loss 0.2025472040524514 Test won deals prop 0.5434375\n",
      "1 0 p -0.00834718 y -0.005525327114140888 loss 0.2058015959434751 won deals 0.53125\n",
      "1 200 p 0.008239247 y -0.012517587387292917 loss 0.23152870575130832 won deals 0.40625\n",
      "1 400 p 0.00083880126 y -0.01863438159207309 loss 0.21245938116234045 won deals 0.5\n",
      "1 600 p 0.00012005493 y 0.009512400233246954 loss 0.16801248579836198 won deals 0.6875\n",
      "1 800 p 0.010478649 y 0.011617378139567869 loss 0.19888236124883824 won deals 0.5625\n",
      "1 1000 p -0.0037857154 y 0.010433357746255645 loss 0.18427335475046921 won deals 0.625\n",
      "1 1200 p -0.00022701826 y -0.007835142244716486 loss 0.19159915506481728 won deals 0.59375\n",
      "1 1400 p -0.0005984269 y 0.010162874905794705 loss 0.21914294406527365 won deals 0.46875\n",
      "1 1600 p 0.0029871417 y 0.010764831241687478 loss 0.20571802306274964 won deals 0.53125\n",
      "1 1800 p -0.007081758 y 0.027313005811862023 loss 0.20571998784960288 won deals 0.53125\n",
      "1 2000 p 0.00833417 y -0.002733270657941933 loss 0.21896898854556945 won deals 0.46875\n",
      "1 2200 p 0.00022059493 y 0.027879978509008918 loss 0.1919052276348045 won deals 0.59375\n",
      "1 2400 p -0.0054580634 y -0.004696305572949866 loss 0.1841584914501684 won deals 0.625\n",
      "1 2600 p 0.011406071 y -0.007219441954980921 loss 0.1988470312096904 won deals 0.5625\n",
      "1 2800 p -0.0029173056 y -0.0029531106556535125 loss 0.21260504860876517 won deals 0.5\n",
      "1 3000 p 0.00032688398 y 0.005699779726795473 loss 0.21234122964627827 won deals 0.5\n",
      "1 3200 p -0.003692435 y -0.0071599891744811295 loss 0.21234556294187293 won deals 0.5\n",
      "1 3400 p -0.0041096797 y 0.013182740004424875 loss 0.21889718247284662 won deals 0.46875\n",
      "1 3600 p -0.005834084 y 0.021824289400833585 loss 0.21243668201914173 won deals 0.5\n",
      "1 3800 p 0.0024764678 y -0.01088288370189483 loss 0.19872578233446583 won deals 0.5625\n",
      "1 4000 p -0.005084497 y 0.009066198823126648 loss 0.19144170783011233 won deals 0.59375\n",
      "1 4200 p 0.0041063703 y 0.002076170176197323 loss 0.1986120091199766 won deals 0.5625\n",
      "1 4400 p 0.0018982324 y 0.001440846467053447 loss 0.18399150858856647 won deals 0.625\n",
      "1 4600 p 0.0024074651 y -0.014299252796987627 loss 0.17612995422879943 won deals 0.65625\n",
      "1 4800 p -0.00996525 y -0.017249998192527816 loss 0.19891147665092457 won deals 0.5625\n",
      "1 5000 p -0.0011355774 y -0.011525112678721916 loss 0.16788190437379097 won deals 0.6875\n",
      "1 5200 p -0.008882905 y -0.0005886236682373092 loss 0.19162460445243787 won deals 0.59375\n",
      "1 5400 p -3.539957e-05 y 0.007245426840920555 loss 0.2189466835407816 won deals 0.46875\n",
      "1 5600 p 0.0021685413 y 0.0054034728631413564 loss 0.20560733994706631 won deals 0.53125\n",
      "1 5800 p -0.0034145452 y -0.002293678124728471 loss 0.21235502746422785 won deals 0.5\n",
      "1 6000 p -0.004762888 y -0.011882692599908262 loss 0.2123745954957627 won deals 0.5\n",
      "1 6200 p -0.007768036 y 0.0057804575364395205 loss 0.1988210635626926 won deals 0.5625\n",
      "1 6400 p 0.0067404495 y 0.0027515167546088293 loss 0.19166606668882863 won deals 0.59375\n"
     ]
    },
    {
     "name": "stdout",
     "output_type": "stream",
     "text": [
      "1 6600 p 0.0013641776 y -0.018920324353428608 loss 0.19869618038020498 won deals 0.5625\n",
      "1 6800 p -0.002677803 y -0.016611610020518253 loss 0.19147134180121894 won deals 0.59375\n",
      "1 7000 p 0.002492234 y -4.2751649335093234e-05 loss 0.19171225162924538 won deals 0.59375\n",
      "1 7200 p -0.00021195225 y 0.1100158702600118 loss 0.15162033938842223 won deals 0.75\n",
      "1 7400 p 0.004709813 y 0.021321698056067095 loss 0.1762449929019877 won deals 0.65625\n",
      "1 7600 p -0.005128327 y 0.005996042748834807 loss 0.20586207277676483 won deals 0.53125\n",
      "1 7800 p 0.0059140124 y -0.00760543246706491 loss 0.18417565471809308 won deals 0.625\n",
      "1 8000 p 0.0021227784 y 0.01571522259350644 loss 0.17613986838956647 won deals 0.65625\n",
      "1 8200 p 0.0032926672 y -0.0011347228855052016 loss 0.2055936962869217 won deals 0.53125\n",
      "1 8400 p 0.0007672999 y -0.006984275933666906 loss 0.19155349711845596 won deals 0.59375\n",
      "1 8600 p 0.0076961163 y -0.0036232345622411177 loss 0.21890920567610314 won deals 0.46875\n",
      "1 8800 p 0.0030406332 y -0.013749999255585621 loss 0.20559199303071823 won deals 0.53125\n",
      "1 9000 p -0.0011485787 y 0.004410159396559532 loss 0.19861039604396927 won deals 0.5625\n",
      "1 9200 p -0.0027950378 y -0.020021787643599298 loss 0.21271907824248174 won deals 0.5\n",
      "1 9400 p 0.0021796264 y -0.0015576534860262115 loss 0.1986588013788037 won deals 0.5625\n",
      "1 9600 p -0.0016885335 y -0.006982965007360509 loss 0.19890645738097928 won deals 0.5625\n",
      "1 9800 p 0.0022590961 y 0.031371127789372455 loss 0.15031612086544702 won deals 0.75\n",
      "1 10000 p 0.002533894 y -0.0029673590504464276 loss 0.1986529787342431 won deals 0.5625\n",
      "1 10200 p -0.0070050173 y 0.008240799727154968 loss 0.17613957229471586 won deals 0.65625\n",
      "1 10400 p 0.00040078256 y -0.0010773821121168314 loss 0.1594969448881475 won deals 0.71875\n",
      "1 10600 p 0.0065849363 y 0.00936467350801884 loss 0.19155424585652833 won deals 0.59375\n",
      "1 10800 p 0.000851905 y -0.010877595949944086 loss 0.17618124275084357 won deals 0.65625\n",
      "1 11000 p -0.0070348084 y 0.020379239496643997 loss 0.19882182240567667 won deals 0.5625\n",
      "1 11200 p 0.0019917232 y -0.006811258477258386 loss 0.17640908230551186 won deals 0.65625\n",
      "1 11400 p -0.005091562 y 0.004436310653836983 loss 0.2055912772965072 won deals 0.53125\n",
      "1 11600 p -0.0077705197 y -0.010998450002913662 loss 0.19866260803967153 won deals 0.5625\n",
      "1 11800 p -0.0009902725 y 0.0016148785020808631 loss 0.16805019732728715 won deals 0.6875\n",
      "Train loss 0.19294331450930016 Train won deals prop 0.5839116505259643\n",
      "Test loss 0.18693924103175794 Test won deals prop 0.61\n",
      "2 0 p -0.0026767403 y -0.005525327114140888 loss 0.18395266046953856 won deals 0.625\n",
      "2 200 p -0.004681969 y -0.012517587387292917 loss 0.19869203687961687 won deals 0.5625\n",
      "2 400 p 0.0021745889 y -0.01863438159207309 loss 0.19867679330345991 won deals 0.5625\n",
      "2 600 p -0.0009409599 y 0.009512400233246954 loss 0.21889376173808775 won deals 0.46875\n",
      "2 800 p 0.0029679085 y 0.011617378139567869 loss 0.19883873167394514 won deals 0.5625\n",
      "2 1000 p -0.0003761747 y 0.010433357746255645 loss 0.18423532432432566 won deals 0.625\n",
      "2 1200 p 0.0031795427 y -0.007835142244716486 loss 0.19145745935299388 won deals 0.59375\n",
      "2 1400 p 0.0016803774 y 0.010162874905794705 loss 0.18406381694018176 won deals 0.625\n",
      "2 1600 p -0.0040582377 y 0.010764831241687478 loss 0.18412335081326567 won deals 0.625\n",
      "2 1800 p 0.000257493 y 0.027313005811862023 loss 0.1593079255177998 won deals 0.71875\n",
      "2 2000 p 0.00012342818 y -0.002733270657941933 loss 0.15030350576919968 won deals 0.75\n",
      "2 2200 p -0.0013054716 y 0.027879978509008918 loss 0.18437975174227994 won deals 0.625\n",
      "2 2400 p 0.0012688097 y -0.004696305572949866 loss 0.19143761163808548 won deals 0.59375\n",
      "2 2600 p -0.006185663 y -0.007219441954980921 loss 0.1839390713096073 won deals 0.625\n",
      "2 2800 p 0.0003776718 y -0.0029531106556535125 loss 0.18415909831072605 won deals 0.625\n",
      "2 3000 p -0.0038547763 y 0.005699779726795473 loss 0.19139734558880228 won deals 0.59375\n",
      "2 3200 p 0.0027202275 y -0.0071599891744811295 loss 0.19135331375528664 won deals 0.59375\n",
      "2 3400 p -0.0013868199 y 0.013182740004424875 loss 0.19137436737464278 won deals 0.59375\n",
      "2 3600 p 0.00093577243 y 0.021824289400833585 loss 0.1302435175724977 won deals 0.8125\n",
      "2 3800 p -0.00033944426 y -0.01088288370189483 loss 0.1593582053311298 won deals 0.71875\n",
      "2 4000 p 9.680167e-06 y 0.009066198823126648 loss 0.19859900097691754 won deals 0.5625\n",
      "2 4200 p -0.0009374637 y 0.002076170176197323 loss 0.17608900150947343 won deals 0.65625\n",
      "2 4400 p -0.0014975383 y 0.001440846467053447 loss 0.18391078603071978 won deals 0.625\n",
      "2 4600 p -0.0013068351 y -0.014299252796987627 loss 0.18393612449642388 won deals 0.625\n",
      "2 4800 p -0.0010038903 y -0.017249998192527816 loss 0.20575014542601164 won deals 0.53125\n",
      "2 5000 p -0.00029309327 y -0.011525112678721916 loss 0.19137017240919782 won deals 0.59375\n",
      "2 5200 p 0.002211751 y -0.0005886236682373092 loss 0.176201561585547 won deals 0.65625\n",
      "2 5400 p 0.0031961324 y 0.007245426840920555 loss 0.15934337788441327 won deals 0.71875\n",
      "2 5600 p -0.0017360435 y 0.0054034728631413564 loss 0.20559108703762682 won deals 0.53125\n",
      "2 5800 p -0.0027795099 y -0.002293678124728471 loss 0.18395912053777533 won deals 0.625\n",
      "2 6000 p 0.005708131 y -0.011882692599908262 loss 0.15028259806703614 won deals 0.75\n",
      "2 6200 p -0.0036606612 y 0.0057804575364395205 loss 0.1915622581430623 won deals 0.59375\n",
      "2 6400 p -0.0013746568 y 0.0027515167546088293 loss 0.1916270053469943 won deals 0.59375\n",
      "2 6600 p -0.0044588097 y -0.018920324353428608 loss 0.1985766309807573 won deals 0.5625\n",
      "2 6800 p -0.0024554715 y -0.016611610020518253 loss 0.21889010268402356 won deals 0.46875\n",
      "2 7000 p -0.004217416 y -4.2751649335093234e-05 loss 0.16816503123537133 won deals 0.6875\n",
      "2 7200 p 0.0008325265 y 0.1100158702600118 loss 0.1691395354290903 won deals 0.6875\n",
      "2 7400 p 0.0042556487 y 0.021321698056067095 loss 0.19153829807527742 won deals 0.59375\n",
      "2 7600 p -0.0014195498 y 0.005996042748834807 loss 0.18416737164352376 won deals 0.625\n",
      "2 7800 p -0.0019286135 y -0.00760543246706491 loss 0.17623773219315622 won deals 0.65625\n",
      "2 8000 p -0.0011892947 y 0.01571522259350644 loss 0.16790794780220003 won deals 0.6875\n",
      "2 8200 p -0.0027246657 y -0.0011347228855052016 loss 0.205542465591837 won deals 0.53125\n",
      "2 8400 p 0.004449629 y -0.006984275933666906 loss 0.1839592217909576 won deals 0.625\n",
      "2 8600 p 0.00028063683 y -0.0036232345622411177 loss 0.19861994301244312 won deals 0.5625\n",
      "2 8800 p -0.0006013792 y -0.013749999255585621 loss 0.16784898791026506 won deals 0.6875\n",
      "2 9000 p 0.0009789052 y 0.004410159396559532 loss 0.176066966444338 won deals 0.65625\n",
      "2 9200 p -0.0050206874 y -0.020021787643599298 loss 0.17662131060083186 won deals 0.65625\n",
      "2 9400 p 0.013534596 y -0.0015576534860262115 loss 0.20560025550347716 won deals 0.53125\n",
      "2 9600 p 0.003243132 y -0.006982965007360509 loss 0.1841443611481351 won deals 0.625\n",
      "2 9800 p 0.001517558 y 0.031371127789372455 loss 0.16798085346527822 won deals 0.6875\n",
      "2 10000 p 0.003804258 y -0.0029673590504464276 loss 0.21883264751452758 won deals 0.46875\n",
      "2 10200 p -0.0013960032 y 0.008240799727154968 loss 0.2056576034966241 won deals 0.53125\n",
      "2 10400 p 0.001318736 y -0.0010773821121168314 loss 0.15948878158269986 won deals 0.71875\n",
      "2 10600 p 0.0017849859 y 0.00936467350801884 loss 0.1679476236763829 won deals 0.6875\n",
      "2 10800 p -0.0015107058 y -0.010877595949944086 loss 0.1839712907710616 won deals 0.625\n",
      "2 11000 p -0.0017052949 y 0.020379239496643997 loss 0.1915170582364975 won deals 0.59375\n",
      "2 11200 p 0.0012081806 y -0.006811258477258386 loss 0.1989409716672045 won deals 0.5625\n",
      "2 11400 p -0.0011370899 y 0.004436310653836983 loss 0.19138239692443235 won deals 0.59375\n",
      "2 11600 p 0.0026008654 y -0.010998450002913662 loss 0.18391883760024277 won deals 0.625\n",
      "2 11800 p -0.0013488992 y 0.0016148785020808631 loss 0.20566432369610466 won deals 0.53125\n",
      "Train loss 0.18315204750132064 Train won deals prop 0.6249086867590583\n",
      "Test loss 0.18047745402251902 Test won deals prop 0.6359375\n",
      "3 0 p -0.0025604893 y -0.005525327114140888 loss 0.1679507456600385 won deals 0.6875\n",
      "3 200 p -0.00040804828 y -0.012517587387292917 loss 0.17612885438351078 won deals 0.65625\n",
      "3 400 p 0.00096713845 y -0.01863438159207309 loss 0.16795731106331643 won deals 0.6875\n",
      "3 600 p 0.0029176 y 0.009512400233246954 loss 0.14049422620766175 won deals 0.78125\n"
     ]
    },
    {
     "name": "stdout",
     "output_type": "stream",
     "text": [
      "3 800 p 0.003711846 y 0.011617378139567869 loss 0.15955175317530593 won deals 0.71875\n",
      "3 1000 p -0.001219878 y 0.010433357746255645 loss 0.1596209663947178 won deals 0.71875\n",
      "3 1200 p -0.0017556753 y -0.007835142244716486 loss 0.1986940617685277 won deals 0.5625\n",
      "3 1400 p -0.0009476952 y 0.010162874905794705 loss 0.19155414861798298 won deals 0.59375\n",
      "3 1600 p -0.001196913 y 0.010764831241687478 loss 0.1678937422923176 won deals 0.6875\n",
      "3 1800 p 0.000869093 y 0.027313005811862023 loss 0.1405370225151302 won deals 0.78125\n",
      "3 2000 p -0.0013212599 y -0.002733270657941933 loss 0.17612793431534923 won deals 0.65625\n",
      "3 2200 p -0.0013024961 y 0.027879978509008918 loss 0.184365365617189 won deals 0.625\n",
      "3 2400 p 0.00021774368 y -0.004696305572949866 loss 0.18393766373119266 won deals 0.625\n",
      "3 2600 p 0.0019598072 y -0.007219441954980921 loss 0.19863824790036977 won deals 0.5625\n",
      "3 2800 p -0.0005430761 y -0.0029531106556535125 loss 0.13041226312050358 won deals 0.8125\n",
      "3 3000 p 0.0021507272 y 0.005699779726795473 loss 0.1760087501395584 won deals 0.65625\n",
      "3 3200 p -0.0011442448 y -0.0071599891744811295 loss 0.17608635702412814 won deals 0.65625\n",
      "3 3400 p 0.0034431615 y 0.013182740004424875 loss 0.14046715115962227 won deals 0.78125\n",
      "3 3600 p 0.0033542572 y 0.021824289400833585 loss 0.19146968802347925 won deals 0.59375\n",
      "3 3800 p 0.00048661 y -0.01088288370189483 loss 0.16791446496117204 won deals 0.6875\n",
      "3 4000 p -0.0009783893 y 0.009066198823126648 loss 0.1678447820382784 won deals 0.6875\n",
      "3 4200 p 0.003833576 y 0.002076170176197323 loss 0.17602267640199737 won deals 0.65625\n",
      "3 4400 p -0.002407026 y 0.001440846467053447 loss 0.18385310825623197 won deals 0.625\n",
      "3 4600 p -0.0008225022 y -0.014299252796987627 loss 0.15931706263659612 won deals 0.71875\n",
      "3 4800 p 0.0019467017 y -0.017249998192527816 loss 0.19153837587255512 won deals 0.59375\n",
      "3 5000 p 0.0023240335 y -0.011525112678721916 loss 0.19136099377661753 won deals 0.59375\n",
      "3 5200 p -0.0015810044 y -0.0005886236682373092 loss 0.19871436576368093 won deals 0.5625\n",
      "3 5400 p 0.0011361493 y 0.007245426840920555 loss 0.18392254424206325 won deals 0.625\n",
      "3 5600 p 0.001773214 y 0.0054034728631413564 loss 0.19861118382691192 won deals 0.5625\n",
      "3 5800 p -0.00019286852 y -0.002293678124728471 loss 0.16786876741209877 won deals 0.6875\n",
      "3 6000 p 0.0010283832 y -0.011882692599908262 loss 0.1838768237708778 won deals 0.625\n",
      "3 6200 p -0.0040521463 y 0.0057804575364395205 loss 0.16812212174018717 won deals 0.6875\n",
      "3 6400 p 0.0025282828 y 0.0027515167546088293 loss 0.1680929977508665 won deals 0.6875\n",
      "3 6600 p -0.0013527498 y -0.018920324353428608 loss 0.1914253517272944 won deals 0.59375\n",
      "3 6800 p 0.0028879265 y -0.016611610020518253 loss 0.176143384477868 won deals 0.65625\n",
      "3 7000 p -1.7900486e-05 y -4.2751649335093234e-05 loss 0.14087855474527886 won deals 0.78125\n",
      "3 7200 p 0.0037752835 y 0.1100158702600118 loss 0.17710931087201628 won deals 0.65625\n",
      "3 7400 p 0.0025277624 y 0.021321698056067095 loss 0.17629877835833369 won deals 0.65625\n",
      "3 7600 p -0.0006850171 y 0.005996042748834807 loss 0.19157544268124227 won deals 0.59375\n",
      "3 7800 p 0.0011928994 y -0.00760543246706491 loss 0.17622050398690886 won deals 0.65625\n",
      "3 8000 p 0.00036745192 y 0.01571522259350644 loss 0.15932866011841423 won deals 0.71875\n",
      "3 8200 p 0.0012016185 y -0.0011347228855052016 loss 0.1985306262218608 won deals 0.5625\n",
      "3 8400 p 0.004104011 y -0.006984275933666906 loss 0.20568412074335868 won deals 0.53125\n",
      "3 8600 p 3.406545e-05 y -0.0036232345622411177 loss 0.19138538480422845 won deals 0.59375\n",
      "3 8800 p -0.0018121181 y -0.013749999255585621 loss 0.16787633460509216 won deals 0.6875\n",
      "3 9000 p -0.001891843 y 0.004410159396559532 loss 0.20553436392011112 won deals 0.53125\n",
      "3 9200 p 0.0014983669 y -0.020021787643599298 loss 0.1506942433755337 won deals 0.75\n",
      "3 9400 p -0.003662819 y -0.0015576534860262115 loss 0.183880723722829 won deals 0.625\n",
      "3 9600 p -0.0017592325 y -0.006982965007360509 loss 0.15965717757503073 won deals 0.71875\n",
      "3 9800 p -0.0037493962 y 0.031371127789372455 loss 0.15941508854837516 won deals 0.71875\n",
      "3 10000 p -0.0018768515 y -0.0029673590504464276 loss 0.15020924318790219 won deals 0.75\n",
      "3 10200 p -0.0032414468 y 0.008240799727154968 loss 0.15933306156264787 won deals 0.71875\n",
      "3 10400 p -0.004526415 y -0.0010773821121168314 loss 0.1407701418809656 won deals 0.78125\n",
      "3 10600 p -0.00034024194 y 0.00936467350801884 loss 0.19145567898022425 won deals 0.59375\n",
      "3 10800 p 0.0027167606 y -0.010877595949944086 loss 0.19865562285485858 won deals 0.5625\n",
      "3 11000 p -0.0011079186 y 0.020379239496643997 loss 0.18396363637552088 won deals 0.625\n",
      "3 11200 p 0.004303598 y -0.006811258477258386 loss 0.1842083990507074 won deals 0.625\n",
      "3 11400 p 0.004794771 y 0.004436310653836983 loss 0.15015201713478654 won deals 0.75\n",
      "3 11600 p 0.0013164489 y -0.010998450002913662 loss 0.1678853770643355 won deals 0.6875\n",
      "3 11800 p -0.0022506164 y 0.0016148785020808631 loss 0.19157517044331604 won deals 0.59375\n",
      "Train loss 0.17763300809771201 Train won deals prop 0.6470351895141092\n",
      "Test loss 0.17421879114929503 Test won deals prop 0.66\n"
     ]
    }
   ],
   "source": [
    "saver = tf.train.Saver(max_to_keep=100)\n",
    "\n",
    "with tf.Session() as sess:\n",
    "    sess.run(tf.global_variables_initializer())\n",
    "   \n",
    "    for e in range(epochs):\n",
    "        \n",
    "        total_train_loss,total_test_loss=0,0\n",
    "        total_train_won_deals,total_test_won_deals=0,0\n",
    "        \n",
    "        n_train_batches=0\n",
    "        n_test_batches=0\n",
    "        new_state = sess.run(model.initial_state)\n",
    "        \n",
    "        for x, x_open, y, test_batch in get_batch():\n",
    "\n",
    "            feed = {model.inputs: x,model.opens:x_open,\n",
    "                    model.targets: y,model.initial_state:new_state\n",
    "                    }\n",
    "                   \n",
    "            fetch = [model.loss,model.final_state,model.outputs,model.opt]\n",
    "            if test_batch:\n",
    "                #Last batches must be only used for testing so setting another value just to escape from optimizing \n",
    "                fetch[-1]=model.lstm_outputs\n",
    "                \n",
    "            batch_loss, new_state, y_hat, _ = sess.run(fetch,feed_dict=feed)\n",
    "            batch_loss = batch_loss**0.5\n",
    "            win_deals = sum((y_hat[:,0]*y[:,0])>0)\n",
    "            win_deal_prop = win_deals/len(y)\n",
    "                         \n",
    "            if n_train_batches % 200 == 0 and not test_batch:\n",
    "                print(e,n_train_batches,'p',y_hat[3,0],'y',y[3,0],'loss',batch_loss,'won deals',win_deal_prop)\n",
    "            \n",
    "            if test_batch:\n",
    "                total_test_loss+= batch_loss\n",
    "                total_test_won_deals+=win_deals\n",
    "                n_test_batches+=1  \n",
    "            else:\n",
    "                total_train_loss+= batch_loss\n",
    "                total_train_won_deals+=win_deals\n",
    "                n_train_batches+=1  \n",
    "                     \n",
    "        mean_test_loss=total_test_loss/n_test_batches    \n",
    "        print('Train loss',total_train_loss/n_train_batches, 'Train won deals prop',total_train_won_deals/(n_train_batches*len(y)))\n",
    "        print('Test loss',mean_test_loss, 'Test won deals prop',total_test_won_deals/(n_test_batches*len(y)))\n",
    "        path = 'checkpoints/e{0}_loss{1}'.format(e,mean_test_loss)\n",
    "        saver.save(sess,save_path=path)"
   ]
  }
 ],
 "metadata": {
  "kernelspec": {
   "display_name": "Python 3",
   "language": "python",
   "name": "python3"
  },
  "language_info": {
   "codemirror_mode": {
    "name": "ipython",
    "version": 3
   },
   "file_extension": ".py",
   "mimetype": "text/x-python",
   "name": "python",
   "nbconvert_exporter": "python",
   "pygments_lexer": "ipython3",
   "version": "3.6.5"
  }
 },
 "nbformat": 4,
 "nbformat_minor": 2
}
